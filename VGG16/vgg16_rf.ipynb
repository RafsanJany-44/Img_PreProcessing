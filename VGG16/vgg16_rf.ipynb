{
 "cells": [
  {
   "cell_type": "markdown",
   "metadata": {},
   "source": [
    "#Pixel Processing, VGG16 with Random Forest<br>\n",
    "vgg16-> 223x224x3 (std input)"
   ]
  },
  {
   "cell_type": "code",
   "execution_count": 3,
   "metadata": {},
   "outputs": [],
   "source": [
    "import numpy as np \n",
    "import matplotlib.pyplot as plt\n",
    "import glob\n",
    "import cv2\n",
    "from tqdm import tqdm\n",
    "from keras.models import Model, Sequential\n",
    "from keras.layers import Dense, Flatten, Conv2D, MaxPooling2D\n",
    "from tensorflow.keras.layers import BatchNormalization\n",
    "import os\n",
    "import seaborn as sns\n",
    "from keras.applications.vgg16 import VGG16\n",
    "from sklearn import preprocessing"
   ]
  },
  {
   "cell_type": "code",
   "execution_count": 4,
   "metadata": {},
   "outputs": [],
   "source": [
    "path =  \"C:/Users/RAZER/Downloads/dataset/Micro_Organism/Set_1/train/\"\n",
    "path_2 = \"C:/Users/RAZER/Downloads/dataset/Micro_Organism/Set_1/val\""
   ]
  },
  {
   "cell_type": "code",
   "execution_count": 5,
   "metadata": {},
   "outputs": [
    {
     "name": "stdout",
     "output_type": "stream",
     "text": [
      "['Amoeba', 'Euglena', 'Hydra', 'Paramecium', 'Rod_bacteria', 'Spherical_bacteria', 'Spiral_bacteria', 'Yeast']\n"
     ]
    }
   ],
   "source": [
    "# Read input images and assign labels based on folder names\n",
    "print(os.listdir(path))"
   ]
  },
  {
   "cell_type": "code",
   "execution_count": 6,
   "metadata": {},
   "outputs": [],
   "source": [
    "SIZE = 256  #Resize images"
   ]
  },
  {
   "cell_type": "code",
   "execution_count": 7,
   "metadata": {},
   "outputs": [
    {
     "name": "stderr",
     "output_type": "stream",
     "text": [
      "  0%|          | 0/8 [00:00<?, ?it/s]"
     ]
    },
    {
     "name": "stdout",
     "output_type": "stream",
     "text": [
      "Amoeba\n",
      "C:/Users/RAZER/Downloads/dataset/Micro_Organism/Set_1/train\\Amoeba\\Image_1.jpg\n",
      "C:/Users/RAZER/Downloads/dataset/Micro_Organism/Set_1/train\\Amoeba\\Image_10.jpg\n",
      "C:/Users/RAZER/Downloads/dataset/Micro_Organism/Set_1/train\\Amoeba\\Image_11.jpg\n",
      "C:/Users/RAZER/Downloads/dataset/Micro_Organism/Set_1/train\\Amoeba\\Image_14.jpg\n",
      "C:/Users/RAZER/Downloads/dataset/Micro_Organism/Set_1/train\\Amoeba\\Image_16.jpg\n",
      "C:/Users/RAZER/Downloads/dataset/Micro_Organism/Set_1/train\\Amoeba\\Image_17.jpg\n",
      "C:/Users/RAZER/Downloads/dataset/Micro_Organism/Set_1/train\\Amoeba\\Image_19.jpg\n",
      "C:/Users/RAZER/Downloads/dataset/Micro_Organism/Set_1/train\\Amoeba\\Image_2.jpg\n",
      "C:/Users/RAZER/Downloads/dataset/Micro_Organism/Set_1/train\\Amoeba\\Image_21.jpg\n",
      "C:/Users/RAZER/Downloads/dataset/Micro_Organism/Set_1/train\\Amoeba\\Image_22.jpg\n",
      "C:/Users/RAZER/Downloads/dataset/Micro_Organism/Set_1/train\\Amoeba\\Image_23.jpg\n",
      "C:/Users/RAZER/Downloads/dataset/Micro_Organism/Set_1/train\\Amoeba\\Image_24.jpg\n",
      "C:/Users/RAZER/Downloads/dataset/Micro_Organism/Set_1/train\\Amoeba\\Image_25.jpg\n",
      "C:/Users/RAZER/Downloads/dataset/Micro_Organism/Set_1/train\\Amoeba\\Image_26.jpg\n",
      "C:/Users/RAZER/Downloads/dataset/Micro_Organism/Set_1/train\\Amoeba\\Image_27.jpg\n",
      "C:/Users/RAZER/Downloads/dataset/Micro_Organism/Set_1/train\\Amoeba\\Image_28.jpg\n",
      "C:/Users/RAZER/Downloads/dataset/Micro_Organism/Set_1/train\\Amoeba\\Image_30.jpg\n",
      "C:/Users/RAZER/Downloads/dataset/Micro_Organism/Set_1/train\\Amoeba\\Image_31.jpg\n",
      "C:/Users/RAZER/Downloads/dataset/Micro_Organism/Set_1/train\\Amoeba\\Image_32.jpg\n",
      "C:/Users/RAZER/Downloads/dataset/Micro_Organism/Set_1/train\\Amoeba\\Image_33.jpg\n",
      "C:/Users/RAZER/Downloads/dataset/Micro_Organism/Set_1/train\\Amoeba\\Image_34.jpg\n",
      "C:/Users/RAZER/Downloads/dataset/Micro_Organism/Set_1/train\\Amoeba\\Image_39.jpg\n",
      "C:/Users/RAZER/Downloads/dataset/Micro_Organism/Set_1/train\\Amoeba\\Image_4.jpg\n",
      "C:/Users/RAZER/Downloads/dataset/Micro_Organism/Set_1/train\\Amoeba\\Image_44.jpg\n",
      "C:/Users/RAZER/Downloads/dataset/Micro_Organism/Set_1/train\\Amoeba\\Image_46.jpg\n",
      "C:/Users/RAZER/Downloads/dataset/Micro_Organism/Set_1/train\\Amoeba\\Image_47.jpg\n",
      "C:/Users/RAZER/Downloads/dataset/Micro_Organism/Set_1/train\\Amoeba\\Image_48.jpg\n",
      "C:/Users/RAZER/Downloads/dataset/Micro_Organism/Set_1/train\\Amoeba\\Image_49.jpg\n",
      "C:/Users/RAZER/Downloads/dataset/Micro_Organism/Set_1/train\\Amoeba\\Image_5.jpg\n",
      "C:/Users/RAZER/Downloads/dataset/Micro_Organism/Set_1/train\\Amoeba\\Image_51.jpg\n",
      "C:/Users/RAZER/Downloads/dataset/Micro_Organism/Set_1/train\\Amoeba\\Image_52.jpg\n",
      "C:/Users/RAZER/Downloads/dataset/Micro_Organism/Set_1/train\\Amoeba\\Image_53.jpg\n",
      "C:/Users/RAZER/Downloads/dataset/Micro_Organism/Set_1/train\\Amoeba\\Image_54.jpg\n",
      "C:/Users/RAZER/Downloads/dataset/Micro_Organism/Set_1/train\\Amoeba\\Image_57.jpg\n",
      "C:/Users/RAZER/Downloads/dataset/Micro_Organism/Set_1/train\\Amoeba\\Image_58.jpg\n",
      "C:/Users/RAZER/Downloads/dataset/Micro_Organism/Set_1/train\\Amoeba\\Image_59.jpg\n",
      "C:/Users/RAZER/Downloads/dataset/Micro_Organism/Set_1/train\\Amoeba\\Image_6.jpg\n",
      "C:/Users/RAZER/Downloads/dataset/Micro_Organism/Set_1/train\\Amoeba\\Image_61.jpg\n",
      "C:/Users/RAZER/Downloads/dataset/Micro_Organism/Set_1/train\\Amoeba\\Image_62.jpg\n",
      "C:/Users/RAZER/Downloads/dataset/Micro_Organism/Set_1/train\\Amoeba\\Image_63.jpg\n",
      "C:/Users/RAZER/Downloads/dataset/Micro_Organism/Set_1/train\\Amoeba\\Image_65.jpg\n",
      "C:/Users/RAZER/Downloads/dataset/Micro_Organism/Set_1/train\\Amoeba\\Image_66.jpg\n",
      "C:/Users/RAZER/Downloads/dataset/Micro_Organism/Set_1/train\\Amoeba\\Image_67.jpg\n",
      "C:/Users/RAZER/Downloads/dataset/Micro_Organism/Set_1/train\\Amoeba\\Image_68.jpg\n",
      "C:/Users/RAZER/Downloads/dataset/Micro_Organism/Set_1/train\\Amoeba\\Image_69.jpg\n",
      "C:/Users/RAZER/Downloads/dataset/Micro_Organism/Set_1/train\\Amoeba\\Image_70.jpg\n",
      "C:/Users/RAZER/Downloads/dataset/Micro_Organism/Set_1/train\\Amoeba\\Image_71.jpg\n",
      "C:/Users/RAZER/Downloads/dataset/Micro_Organism/Set_1/train\\Amoeba\\Image_72.jpg\n"
     ]
    },
    {
     "name": "stderr",
     "output_type": "stream",
     "text": [
      " 12%|█▎        | 1/8 [00:01<00:09,  1.31s/it]"
     ]
    },
    {
     "name": "stdout",
     "output_type": "stream",
     "text": [
      "C:/Users/RAZER/Downloads/dataset/Micro_Organism/Set_1/train\\Amoeba\\Image_73.jpg\n",
      "C:/Users/RAZER/Downloads/dataset/Micro_Organism/Set_1/train\\Amoeba\\Image_75.jpg\n",
      "C:/Users/RAZER/Downloads/dataset/Micro_Organism/Set_1/train\\Amoeba\\Image_76.jpg\n",
      "C:/Users/RAZER/Downloads/dataset/Micro_Organism/Set_1/train\\Amoeba\\Image_77.jpg\n",
      "C:/Users/RAZER/Downloads/dataset/Micro_Organism/Set_1/train\\Amoeba\\Image_78.jpg\n",
      "C:/Users/RAZER/Downloads/dataset/Micro_Organism/Set_1/train\\Amoeba\\Image_8.jpg\n",
      "Euglena\n",
      "C:/Users/RAZER/Downloads/dataset/Micro_Organism/Set_1/train\\Euglena\\Image_1.jpg\n",
      "C:/Users/RAZER/Downloads/dataset/Micro_Organism/Set_1/train\\Euglena\\Image_10.jpg\n",
      "C:/Users/RAZER/Downloads/dataset/Micro_Organism/Set_1/train\\Euglena\\Image_100.jpg\n",
      "C:/Users/RAZER/Downloads/dataset/Micro_Organism/Set_1/train\\Euglena\\Image_101.jpg\n",
      "C:/Users/RAZER/Downloads/dataset/Micro_Organism/Set_1/train\\Euglena\\Image_102.jpg\n",
      "C:/Users/RAZER/Downloads/dataset/Micro_Organism/Set_1/train\\Euglena\\Image_103.jpg\n",
      "C:/Users/RAZER/Downloads/dataset/Micro_Organism/Set_1/train\\Euglena\\Image_104.jpg\n",
      "C:/Users/RAZER/Downloads/dataset/Micro_Organism/Set_1/train\\Euglena\\Image_105.jpg\n",
      "C:/Users/RAZER/Downloads/dataset/Micro_Organism/Set_1/train\\Euglena\\Image_106.jpg\n",
      "C:/Users/RAZER/Downloads/dataset/Micro_Organism/Set_1/train\\Euglena\\Image_107.jpg\n",
      "C:/Users/RAZER/Downloads/dataset/Micro_Organism/Set_1/train\\Euglena\\Image_108.jpg\n",
      "C:/Users/RAZER/Downloads/dataset/Micro_Organism/Set_1/train\\Euglena\\Image_11.jpg\n",
      "C:/Users/RAZER/Downloads/dataset/Micro_Organism/Set_1/train\\Euglena\\Image_111.jpg\n",
      "C:/Users/RAZER/Downloads/dataset/Micro_Organism/Set_1/train\\Euglena\\Image_112.jpg\n",
      "C:/Users/RAZER/Downloads/dataset/Micro_Organism/Set_1/train\\Euglena\\Image_113.jpg\n",
      "C:/Users/RAZER/Downloads/dataset/Micro_Organism/Set_1/train\\Euglena\\Image_116.jpg\n",
      "C:/Users/RAZER/Downloads/dataset/Micro_Organism/Set_1/train\\Euglena\\Image_119.jpg\n",
      "C:/Users/RAZER/Downloads/dataset/Micro_Organism/Set_1/train\\Euglena\\Image_12.jpg\n",
      "C:/Users/RAZER/Downloads/dataset/Micro_Organism/Set_1/train\\Euglena\\Image_124.jpg\n",
      "C:/Users/RAZER/Downloads/dataset/Micro_Organism/Set_1/train\\Euglena\\Image_125.jpg\n",
      "C:/Users/RAZER/Downloads/dataset/Micro_Organism/Set_1/train\\Euglena\\Image_126.jpg\n",
      "C:/Users/RAZER/Downloads/dataset/Micro_Organism/Set_1/train\\Euglena\\Image_127.jpg\n",
      "C:/Users/RAZER/Downloads/dataset/Micro_Organism/Set_1/train\\Euglena\\Image_128.jpg\n",
      "C:/Users/RAZER/Downloads/dataset/Micro_Organism/Set_1/train\\Euglena\\Image_129.jpg\n",
      "C:/Users/RAZER/Downloads/dataset/Micro_Organism/Set_1/train\\Euglena\\Image_13.JPG\n",
      "C:/Users/RAZER/Downloads/dataset/Micro_Organism/Set_1/train\\Euglena\\Image_130.jpg\n",
      "C:/Users/RAZER/Downloads/dataset/Micro_Organism/Set_1/train\\Euglena\\Image_131.jpg\n",
      "C:/Users/RAZER/Downloads/dataset/Micro_Organism/Set_1/train\\Euglena\\Image_132.jpg\n",
      "C:/Users/RAZER/Downloads/dataset/Micro_Organism/Set_1/train\\Euglena\\Image_133.jpg\n",
      "C:/Users/RAZER/Downloads/dataset/Micro_Organism/Set_1/train\\Euglena\\Image_135.jpg\n",
      "C:/Users/RAZER/Downloads/dataset/Micro_Organism/Set_1/train\\Euglena\\Image_136.jpg\n",
      "C:/Users/RAZER/Downloads/dataset/Micro_Organism/Set_1/train\\Euglena\\Image_137.jpg\n",
      "C:/Users/RAZER/Downloads/dataset/Micro_Organism/Set_1/train\\Euglena\\Image_138.jpg\n",
      "C:/Users/RAZER/Downloads/dataset/Micro_Organism/Set_1/train\\Euglena\\Image_139.jpg\n",
      "C:/Users/RAZER/Downloads/dataset/Micro_Organism/Set_1/train\\Euglena\\Image_14.jpg\n",
      "C:/Users/RAZER/Downloads/dataset/Micro_Organism/Set_1/train\\Euglena\\Image_140.jpg\n",
      "C:/Users/RAZER/Downloads/dataset/Micro_Organism/Set_1/train\\Euglena\\Image_141.jpg\n",
      "C:/Users/RAZER/Downloads/dataset/Micro_Organism/Set_1/train\\Euglena\\Image_142.jpg\n",
      "C:/Users/RAZER/Downloads/dataset/Micro_Organism/Set_1/train\\Euglena\\Image_144.jpg\n",
      "C:/Users/RAZER/Downloads/dataset/Micro_Organism/Set_1/train\\Euglena\\Image_145.jpg\n",
      "C:/Users/RAZER/Downloads/dataset/Micro_Organism/Set_1/train\\Euglena\\Image_146.jpg\n",
      "C:/Users/RAZER/Downloads/dataset/Micro_Organism/Set_1/train\\Euglena\\Image_148.jpg\n",
      "C:/Users/RAZER/Downloads/dataset/Micro_Organism/Set_1/train\\Euglena\\Image_15.jpg\n",
      "C:/Users/RAZER/Downloads/dataset/Micro_Organism/Set_1/train\\Euglena\\Image_150.jpg\n",
      "C:/Users/RAZER/Downloads/dataset/Micro_Organism/Set_1/train\\Euglena\\Image_151.jpg\n",
      "C:/Users/RAZER/Downloads/dataset/Micro_Organism/Set_1/train\\Euglena\\Image_152.jpg\n",
      "C:/Users/RAZER/Downloads/dataset/Micro_Organism/Set_1/train\\Euglena\\Image_153.jpg\n",
      "C:/Users/RAZER/Downloads/dataset/Micro_Organism/Set_1/train\\Euglena\\Image_155.jpg\n",
      "C:/Users/RAZER/Downloads/dataset/Micro_Organism/Set_1/train\\Euglena\\Image_156.jpg\n",
      "C:/Users/RAZER/Downloads/dataset/Micro_Organism/Set_1/train\\Euglena\\Image_157.jpg\n",
      "C:/Users/RAZER/Downloads/dataset/Micro_Organism/Set_1/train\\Euglena\\Image_158.jpg\n",
      "C:/Users/RAZER/Downloads/dataset/Micro_Organism/Set_1/train\\Euglena\\Image_159.jpg\n",
      "C:/Users/RAZER/Downloads/dataset/Micro_Organism/Set_1/train\\Euglena\\Image_16.jpg\n",
      "C:/Users/RAZER/Downloads/dataset/Micro_Organism/Set_1/train\\Euglena\\Image_160.jpg\n",
      "C:/Users/RAZER/Downloads/dataset/Micro_Organism/Set_1/train\\Euglena\\Image_161.jpg\n",
      "C:/Users/RAZER/Downloads/dataset/Micro_Organism/Set_1/train\\Euglena\\Image_164.jpg\n",
      "C:/Users/RAZER/Downloads/dataset/Micro_Organism/Set_1/train\\Euglena\\Image_165.jpg\n",
      "C:/Users/RAZER/Downloads/dataset/Micro_Organism/Set_1/train\\Euglena\\Image_166.jpg\n",
      "C:/Users/RAZER/Downloads/dataset/Micro_Organism/Set_1/train\\Euglena\\Image_167.jpg\n",
      "C:/Users/RAZER/Downloads/dataset/Micro_Organism/Set_1/train\\Euglena\\Image_168.jpg\n",
      "C:/Users/RAZER/Downloads/dataset/Micro_Organism/Set_1/train\\Euglena\\Image_169.jpg\n",
      "C:/Users/RAZER/Downloads/dataset/Micro_Organism/Set_1/train\\Euglena\\Image_17.jpg\n",
      "C:/Users/RAZER/Downloads/dataset/Micro_Organism/Set_1/train\\Euglena\\Image_170.jpg\n",
      "C:/Users/RAZER/Downloads/dataset/Micro_Organism/Set_1/train\\Euglena\\Image_172.jpg\n",
      "C:/Users/RAZER/Downloads/dataset/Micro_Organism/Set_1/train\\Euglena\\Image_173.jpg\n",
      "C:/Users/RAZER/Downloads/dataset/Micro_Organism/Set_1/train\\Euglena\\Image_174.jpg\n",
      "C:/Users/RAZER/Downloads/dataset/Micro_Organism/Set_1/train\\Euglena\\Image_175.jpg\n",
      "C:/Users/RAZER/Downloads/dataset/Micro_Organism/Set_1/train\\Euglena\\Image_176.jpg\n",
      "C:/Users/RAZER/Downloads/dataset/Micro_Organism/Set_1/train\\Euglena\\Image_177.jpg\n",
      "C:/Users/RAZER/Downloads/dataset/Micro_Organism/Set_1/train\\Euglena\\Image_178.jpg\n",
      "C:/Users/RAZER/Downloads/dataset/Micro_Organism/Set_1/train\\Euglena\\Image_179.jpg\n",
      "C:/Users/RAZER/Downloads/dataset/Micro_Organism/Set_1/train\\Euglena\\Image_18.jpg\n",
      "C:/Users/RAZER/Downloads/dataset/Micro_Organism/Set_1/train\\Euglena\\Image_180.jpg\n",
      "C:/Users/RAZER/Downloads/dataset/Micro_Organism/Set_1/train\\Euglena\\Image_181.jpg\n",
      "C:/Users/RAZER/Downloads/dataset/Micro_Organism/Set_1/train\\Euglena\\Image_182.jpg\n",
      "C:/Users/RAZER/Downloads/dataset/Micro_Organism/Set_1/train\\Euglena\\Image_183.jpg\n",
      "C:/Users/RAZER/Downloads/dataset/Micro_Organism/Set_1/train\\Euglena\\Image_184.jpg\n",
      "C:/Users/RAZER/Downloads/dataset/Micro_Organism/Set_1/train\\Euglena\\Image_185.jpg\n",
      "C:/Users/RAZER/Downloads/dataset/Micro_Organism/Set_1/train\\Euglena\\Image_186.jpg\n",
      "C:/Users/RAZER/Downloads/dataset/Micro_Organism/Set_1/train\\Euglena\\Image_19.jpg\n",
      "C:/Users/RAZER/Downloads/dataset/Micro_Organism/Set_1/train\\Euglena\\Image_2.jpg\n",
      "C:/Users/RAZER/Downloads/dataset/Micro_Organism/Set_1/train\\Euglena\\Image_20.jpg\n",
      "C:/Users/RAZER/Downloads/dataset/Micro_Organism/Set_1/train\\Euglena\\Image_21.jpg\n",
      "C:/Users/RAZER/Downloads/dataset/Micro_Organism/Set_1/train\\Euglena\\Image_22.jpg\n",
      "C:/Users/RAZER/Downloads/dataset/Micro_Organism/Set_1/train\\Euglena\\Image_23.jpg\n",
      "C:/Users/RAZER/Downloads/dataset/Micro_Organism/Set_1/train\\Euglena\\Image_24.jpg\n",
      "C:/Users/RAZER/Downloads/dataset/Micro_Organism/Set_1/train\\Euglena\\Image_25.jpg\n",
      "C:/Users/RAZER/Downloads/dataset/Micro_Organism/Set_1/train\\Euglena\\Image_26.jpg\n",
      "C:/Users/RAZER/Downloads/dataset/Micro_Organism/Set_1/train\\Euglena\\Image_27.jpg\n",
      "C:/Users/RAZER/Downloads/dataset/Micro_Organism/Set_1/train\\Euglena\\Image_28.jpg\n",
      "C:/Users/RAZER/Downloads/dataset/Micro_Organism/Set_1/train\\Euglena\\Image_29.jpg\n",
      "C:/Users/RAZER/Downloads/dataset/Micro_Organism/Set_1/train\\Euglena\\Image_3.jpg\n",
      "C:/Users/RAZER/Downloads/dataset/Micro_Organism/Set_1/train\\Euglena\\Image_30.jpg\n",
      "C:/Users/RAZER/Downloads/dataset/Micro_Organism/Set_1/train\\Euglena\\Image_31.jpg\n",
      "C:/Users/RAZER/Downloads/dataset/Micro_Organism/Set_1/train\\Euglena\\Image_33.jpg\n",
      "C:/Users/RAZER/Downloads/dataset/Micro_Organism/Set_1/train\\Euglena\\Image_36.jpg\n",
      "C:/Users/RAZER/Downloads/dataset/Micro_Organism/Set_1/train\\Euglena\\Image_37.jpg\n",
      "C:/Users/RAZER/Downloads/dataset/Micro_Organism/Set_1/train\\Euglena\\Image_38.jpg\n",
      "C:/Users/RAZER/Downloads/dataset/Micro_Organism/Set_1/train\\Euglena\\Image_4.jpg\n",
      "C:/Users/RAZER/Downloads/dataset/Micro_Organism/Set_1/train\\Euglena\\Image_40.jpg\n",
      "C:/Users/RAZER/Downloads/dataset/Micro_Organism/Set_1/train\\Euglena\\Image_41.jpg\n",
      "C:/Users/RAZER/Downloads/dataset/Micro_Organism/Set_1/train\\Euglena\\Image_43.jpg\n",
      "C:/Users/RAZER/Downloads/dataset/Micro_Organism/Set_1/train\\Euglena\\Image_44.jpg\n",
      "C:/Users/RAZER/Downloads/dataset/Micro_Organism/Set_1/train\\Euglena\\Image_45.jpg\n",
      "C:/Users/RAZER/Downloads/dataset/Micro_Organism/Set_1/train\\Euglena\\Image_46.jpg\n",
      "C:/Users/RAZER/Downloads/dataset/Micro_Organism/Set_1/train\\Euglena\\Image_47.jpg\n",
      "C:/Users/RAZER/Downloads/dataset/Micro_Organism/Set_1/train\\Euglena\\Image_48.jpg\n",
      "C:/Users/RAZER/Downloads/dataset/Micro_Organism/Set_1/train\\Euglena\\Image_49.jpg\n",
      "C:/Users/RAZER/Downloads/dataset/Micro_Organism/Set_1/train\\Euglena\\Image_5.jpg\n",
      "C:/Users/RAZER/Downloads/dataset/Micro_Organism/Set_1/train\\Euglena\\Image_50.jpg\n",
      "C:/Users/RAZER/Downloads/dataset/Micro_Organism/Set_1/train\\Euglena\\Image_51.jpg\n",
      "C:/Users/RAZER/Downloads/dataset/Micro_Organism/Set_1/train\\Euglena\\Image_52.jpg\n",
      "C:/Users/RAZER/Downloads/dataset/Micro_Organism/Set_1/train\\Euglena\\Image_53.jpg\n",
      "C:/Users/RAZER/Downloads/dataset/Micro_Organism/Set_1/train\\Euglena\\Image_54.jpg\n",
      "C:/Users/RAZER/Downloads/dataset/Micro_Organism/Set_1/train\\Euglena\\Image_55.jpg\n",
      "C:/Users/RAZER/Downloads/dataset/Micro_Organism/Set_1/train\\Euglena\\Image_56.jpg\n",
      "C:/Users/RAZER/Downloads/dataset/Micro_Organism/Set_1/train\\Euglena\\Image_57.jpg\n",
      "C:/Users/RAZER/Downloads/dataset/Micro_Organism/Set_1/train\\Euglena\\Image_58.jpg\n",
      "C:/Users/RAZER/Downloads/dataset/Micro_Organism/Set_1/train\\Euglena\\Image_59.jpg\n",
      "C:/Users/RAZER/Downloads/dataset/Micro_Organism/Set_1/train\\Euglena\\Image_6.jpg\n",
      "C:/Users/RAZER/Downloads/dataset/Micro_Organism/Set_1/train\\Euglena\\Image_60.jpg\n",
      "C:/Users/RAZER/Downloads/dataset/Micro_Organism/Set_1/train\\Euglena\\Image_61.jpg\n"
     ]
    },
    {
     "name": "stderr",
     "output_type": "stream",
     "text": [
      " 25%|██▌       | 2/8 [00:04<00:13,  2.25s/it]"
     ]
    },
    {
     "name": "stdout",
     "output_type": "stream",
     "text": [
      "C:/Users/RAZER/Downloads/dataset/Micro_Organism/Set_1/train\\Euglena\\Image_62.jpg\n",
      "C:/Users/RAZER/Downloads/dataset/Micro_Organism/Set_1/train\\Euglena\\Image_63.jpg\n",
      "C:/Users/RAZER/Downloads/dataset/Micro_Organism/Set_1/train\\Euglena\\Image_64.jpg\n",
      "C:/Users/RAZER/Downloads/dataset/Micro_Organism/Set_1/train\\Euglena\\Image_65.jpg\n",
      "C:/Users/RAZER/Downloads/dataset/Micro_Organism/Set_1/train\\Euglena\\Image_66.jpg\n",
      "Hydra\n",
      "C:/Users/RAZER/Downloads/dataset/Micro_Organism/Set_1/train\\Hydra\\Image_1.jpg\n",
      "C:/Users/RAZER/Downloads/dataset/Micro_Organism/Set_1/train\\Hydra\\Image_10.jpg\n",
      "C:/Users/RAZER/Downloads/dataset/Micro_Organism/Set_1/train\\Hydra\\Image_101.jpg\n",
      "C:/Users/RAZER/Downloads/dataset/Micro_Organism/Set_1/train\\Hydra\\Image_107.jpg\n",
      "C:/Users/RAZER/Downloads/dataset/Micro_Organism/Set_1/train\\Hydra\\Image_108.jpg\n",
      "C:/Users/RAZER/Downloads/dataset/Micro_Organism/Set_1/train\\Hydra\\Image_109.jpg\n",
      "C:/Users/RAZER/Downloads/dataset/Micro_Organism/Set_1/train\\Hydra\\Image_11.jpg\n",
      "C:/Users/RAZER/Downloads/dataset/Micro_Organism/Set_1/train\\Hydra\\Image_110.jpg\n",
      "C:/Users/RAZER/Downloads/dataset/Micro_Organism/Set_1/train\\Hydra\\Image_111.jpg\n",
      "C:/Users/RAZER/Downloads/dataset/Micro_Organism/Set_1/train\\Hydra\\Image_113.jpg\n",
      "C:/Users/RAZER/Downloads/dataset/Micro_Organism/Set_1/train\\Hydra\\Image_116.jpg\n",
      "C:/Users/RAZER/Downloads/dataset/Micro_Organism/Set_1/train\\Hydra\\Image_118.jpg\n",
      "C:/Users/RAZER/Downloads/dataset/Micro_Organism/Set_1/train\\Hydra\\Image_119.jpg\n",
      "C:/Users/RAZER/Downloads/dataset/Micro_Organism/Set_1/train\\Hydra\\Image_123.jpg\n",
      "C:/Users/RAZER/Downloads/dataset/Micro_Organism/Set_1/train\\Hydra\\Image_127.jpg\n",
      "C:/Users/RAZER/Downloads/dataset/Micro_Organism/Set_1/train\\Hydra\\Image_128.jpg\n",
      "C:/Users/RAZER/Downloads/dataset/Micro_Organism/Set_1/train\\Hydra\\Image_129.jpg\n",
      "C:/Users/RAZER/Downloads/dataset/Micro_Organism/Set_1/train\\Hydra\\Image_13.jpg\n",
      "C:/Users/RAZER/Downloads/dataset/Micro_Organism/Set_1/train\\Hydra\\Image_130.jpg\n",
      "C:/Users/RAZER/Downloads/dataset/Micro_Organism/Set_1/train\\Hydra\\Image_19.jpg\n",
      "C:/Users/RAZER/Downloads/dataset/Micro_Organism/Set_1/train\\Hydra\\Image_2.jpg\n",
      "C:/Users/RAZER/Downloads/dataset/Micro_Organism/Set_1/train\\Hydra\\Image_20.jpg\n",
      "C:/Users/RAZER/Downloads/dataset/Micro_Organism/Set_1/train\\Hydra\\Image_21.jpg\n",
      "C:/Users/RAZER/Downloads/dataset/Micro_Organism/Set_1/train\\Hydra\\Image_22.jpg\n",
      "C:/Users/RAZER/Downloads/dataset/Micro_Organism/Set_1/train\\Hydra\\Image_23.JPG\n",
      "C:/Users/RAZER/Downloads/dataset/Micro_Organism/Set_1/train\\Hydra\\Image_27.jpg\n",
      "C:/Users/RAZER/Downloads/dataset/Micro_Organism/Set_1/train\\Hydra\\Image_28.jpg\n",
      "C:/Users/RAZER/Downloads/dataset/Micro_Organism/Set_1/train\\Hydra\\Image_29.jpg\n",
      "C:/Users/RAZER/Downloads/dataset/Micro_Organism/Set_1/train\\Hydra\\Image_3.jpg\n",
      "C:/Users/RAZER/Downloads/dataset/Micro_Organism/Set_1/train\\Hydra\\Image_30.jpg\n",
      "C:/Users/RAZER/Downloads/dataset/Micro_Organism/Set_1/train\\Hydra\\Image_31.jpg\n",
      "C:/Users/RAZER/Downloads/dataset/Micro_Organism/Set_1/train\\Hydra\\Image_34.jpg\n",
      "C:/Users/RAZER/Downloads/dataset/Micro_Organism/Set_1/train\\Hydra\\Image_35.jpg\n",
      "C:/Users/RAZER/Downloads/dataset/Micro_Organism/Set_1/train\\Hydra\\Image_37.jpg\n",
      "C:/Users/RAZER/Downloads/dataset/Micro_Organism/Set_1/train\\Hydra\\Image_38.jpg\n",
      "C:/Users/RAZER/Downloads/dataset/Micro_Organism/Set_1/train\\Hydra\\Image_4.jpg\n",
      "C:/Users/RAZER/Downloads/dataset/Micro_Organism/Set_1/train\\Hydra\\Image_40.jpg\n",
      "C:/Users/RAZER/Downloads/dataset/Micro_Organism/Set_1/train\\Hydra\\Image_42.jpg\n",
      "C:/Users/RAZER/Downloads/dataset/Micro_Organism/Set_1/train\\Hydra\\Image_43.jpg\n",
      "C:/Users/RAZER/Downloads/dataset/Micro_Organism/Set_1/train\\Hydra\\Image_44.jpg\n",
      "C:/Users/RAZER/Downloads/dataset/Micro_Organism/Set_1/train\\Hydra\\Image_45.jpg\n",
      "C:/Users/RAZER/Downloads/dataset/Micro_Organism/Set_1/train\\Hydra\\Image_46.JPG\n",
      "C:/Users/RAZER/Downloads/dataset/Micro_Organism/Set_1/train\\Hydra\\Image_48.jpg\n",
      "C:/Users/RAZER/Downloads/dataset/Micro_Organism/Set_1/train\\Hydra\\Image_49.jpg\n",
      "C:/Users/RAZER/Downloads/dataset/Micro_Organism/Set_1/train\\Hydra\\Image_5.jpg\n",
      "C:/Users/RAZER/Downloads/dataset/Micro_Organism/Set_1/train\\Hydra\\Image_50.jpg\n",
      "C:/Users/RAZER/Downloads/dataset/Micro_Organism/Set_1/train\\Hydra\\Image_51.jpg\n",
      "C:/Users/RAZER/Downloads/dataset/Micro_Organism/Set_1/train\\Hydra\\Image_52.jpg\n",
      "C:/Users/RAZER/Downloads/dataset/Micro_Organism/Set_1/train\\Hydra\\Image_54.jpg\n",
      "C:/Users/RAZER/Downloads/dataset/Micro_Organism/Set_1/train\\Hydra\\Image_55.jpg\n",
      "C:/Users/RAZER/Downloads/dataset/Micro_Organism/Set_1/train\\Hydra\\Image_56.jpg\n",
      "C:/Users/RAZER/Downloads/dataset/Micro_Organism/Set_1/train\\Hydra\\Image_57.jpg\n",
      "C:/Users/RAZER/Downloads/dataset/Micro_Organism/Set_1/train\\Hydra\\Image_58.jpg\n",
      "C:/Users/RAZER/Downloads/dataset/Micro_Organism/Set_1/train\\Hydra\\Image_6.jpg\n",
      "C:/Users/RAZER/Downloads/dataset/Micro_Organism/Set_1/train\\Hydra\\Image_63.jpg\n"
     ]
    },
    {
     "name": "stderr",
     "output_type": "stream",
     "text": [
      " 38%|███▊      | 3/8 [00:05<00:09,  1.90s/it]"
     ]
    },
    {
     "name": "stdout",
     "output_type": "stream",
     "text": [
      "C:/Users/RAZER/Downloads/dataset/Micro_Organism/Set_1/train\\Hydra\\Image_64.jpg\n",
      "C:/Users/RAZER/Downloads/dataset/Micro_Organism/Set_1/train\\Hydra\\Image_65.jpg\n",
      "C:/Users/RAZER/Downloads/dataset/Micro_Organism/Set_1/train\\Hydra\\Image_67.jpg\n",
      "Paramecium\n",
      "C:/Users/RAZER/Downloads/dataset/Micro_Organism/Set_1/train\\Paramecium\\Image_1.jpg\n",
      "C:/Users/RAZER/Downloads/dataset/Micro_Organism/Set_1/train\\Paramecium\\Image_10.jpg\n",
      "C:/Users/RAZER/Downloads/dataset/Micro_Organism/Set_1/train\\Paramecium\\Image_100.jpg\n",
      "C:/Users/RAZER/Downloads/dataset/Micro_Organism/Set_1/train\\Paramecium\\Image_101.jpg\n",
      "C:/Users/RAZER/Downloads/dataset/Micro_Organism/Set_1/train\\Paramecium\\Image_102.jpg\n",
      "C:/Users/RAZER/Downloads/dataset/Micro_Organism/Set_1/train\\Paramecium\\Image_103.jpg\n",
      "C:/Users/RAZER/Downloads/dataset/Micro_Organism/Set_1/train\\Paramecium\\Image_105.jpg\n",
      "C:/Users/RAZER/Downloads/dataset/Micro_Organism/Set_1/train\\Paramecium\\Image_106.jpg\n",
      "C:/Users/RAZER/Downloads/dataset/Micro_Organism/Set_1/train\\Paramecium\\Image_109.jpg\n",
      "C:/Users/RAZER/Downloads/dataset/Micro_Organism/Set_1/train\\Paramecium\\Image_11.jpg\n",
      "C:/Users/RAZER/Downloads/dataset/Micro_Organism/Set_1/train\\Paramecium\\Image_12.jpg\n",
      "C:/Users/RAZER/Downloads/dataset/Micro_Organism/Set_1/train\\Paramecium\\Image_120.jpg\n",
      "C:/Users/RAZER/Downloads/dataset/Micro_Organism/Set_1/train\\Paramecium\\Image_121.jpg\n",
      "C:/Users/RAZER/Downloads/dataset/Micro_Organism/Set_1/train\\Paramecium\\Image_122.jpg\n",
      "C:/Users/RAZER/Downloads/dataset/Micro_Organism/Set_1/train\\Paramecium\\Image_124.jpg\n",
      "C:/Users/RAZER/Downloads/dataset/Micro_Organism/Set_1/train\\Paramecium\\Image_125.jpg\n",
      "C:/Users/RAZER/Downloads/dataset/Micro_Organism/Set_1/train\\Paramecium\\Image_126.jpg\n",
      "C:/Users/RAZER/Downloads/dataset/Micro_Organism/Set_1/train\\Paramecium\\Image_129.jpg\n",
      "C:/Users/RAZER/Downloads/dataset/Micro_Organism/Set_1/train\\Paramecium\\Image_131.jpg\n",
      "C:/Users/RAZER/Downloads/dataset/Micro_Organism/Set_1/train\\Paramecium\\Image_132.jpg\n",
      "C:/Users/RAZER/Downloads/dataset/Micro_Organism/Set_1/train\\Paramecium\\Image_133.jpg\n",
      "C:/Users/RAZER/Downloads/dataset/Micro_Organism/Set_1/train\\Paramecium\\Image_135.jpg\n",
      "C:/Users/RAZER/Downloads/dataset/Micro_Organism/Set_1/train\\Paramecium\\Image_136.jpg\n",
      "C:/Users/RAZER/Downloads/dataset/Micro_Organism/Set_1/train\\Paramecium\\Image_137.jpg\n",
      "C:/Users/RAZER/Downloads/dataset/Micro_Organism/Set_1/train\\Paramecium\\Image_138.jpg\n",
      "C:/Users/RAZER/Downloads/dataset/Micro_Organism/Set_1/train\\Paramecium\\Image_139.jpg\n",
      "C:/Users/RAZER/Downloads/dataset/Micro_Organism/Set_1/train\\Paramecium\\Image_140.jpg\n",
      "C:/Users/RAZER/Downloads/dataset/Micro_Organism/Set_1/train\\Paramecium\\Image_143.jpg\n",
      "C:/Users/RAZER/Downloads/dataset/Micro_Organism/Set_1/train\\Paramecium\\Image_144.jpg\n",
      "C:/Users/RAZER/Downloads/dataset/Micro_Organism/Set_1/train\\Paramecium\\Image_145.jpg\n",
      "C:/Users/RAZER/Downloads/dataset/Micro_Organism/Set_1/train\\Paramecium\\Image_146.jpg\n",
      "C:/Users/RAZER/Downloads/dataset/Micro_Organism/Set_1/train\\Paramecium\\Image_147.jpg\n",
      "C:/Users/RAZER/Downloads/dataset/Micro_Organism/Set_1/train\\Paramecium\\Image_148.jpg\n",
      "C:/Users/RAZER/Downloads/dataset/Micro_Organism/Set_1/train\\Paramecium\\Image_149.jpg\n",
      "C:/Users/RAZER/Downloads/dataset/Micro_Organism/Set_1/train\\Paramecium\\Image_150.jpg\n",
      "C:/Users/RAZER/Downloads/dataset/Micro_Organism/Set_1/train\\Paramecium\\Image_151.jpg\n",
      "C:/Users/RAZER/Downloads/dataset/Micro_Organism/Set_1/train\\Paramecium\\Image_152.jpg\n",
      "C:/Users/RAZER/Downloads/dataset/Micro_Organism/Set_1/train\\Paramecium\\Image_153.jpg\n",
      "C:/Users/RAZER/Downloads/dataset/Micro_Organism/Set_1/train\\Paramecium\\Image_155.jpg\n",
      "C:/Users/RAZER/Downloads/dataset/Micro_Organism/Set_1/train\\Paramecium\\Image_157.jpg\n",
      "C:/Users/RAZER/Downloads/dataset/Micro_Organism/Set_1/train\\Paramecium\\Image_159.jpg\n",
      "C:/Users/RAZER/Downloads/dataset/Micro_Organism/Set_1/train\\Paramecium\\Image_16.jpg\n",
      "C:/Users/RAZER/Downloads/dataset/Micro_Organism/Set_1/train\\Paramecium\\Image_161.jpg\n",
      "C:/Users/RAZER/Downloads/dataset/Micro_Organism/Set_1/train\\Paramecium\\Image_162.jpg\n",
      "C:/Users/RAZER/Downloads/dataset/Micro_Organism/Set_1/train\\Paramecium\\Image_163.jpg\n",
      "C:/Users/RAZER/Downloads/dataset/Micro_Organism/Set_1/train\\Paramecium\\Image_165.jpg\n",
      "C:/Users/RAZER/Downloads/dataset/Micro_Organism/Set_1/train\\Paramecium\\Image_166.jpg\n",
      "C:/Users/RAZER/Downloads/dataset/Micro_Organism/Set_1/train\\Paramecium\\Image_17.jpg\n",
      "C:/Users/RAZER/Downloads/dataset/Micro_Organism/Set_1/train\\Paramecium\\Image_170.jpg\n",
      "C:/Users/RAZER/Downloads/dataset/Micro_Organism/Set_1/train\\Paramecium\\Image_171.jpg\n",
      "C:/Users/RAZER/Downloads/dataset/Micro_Organism/Set_1/train\\Paramecium\\Image_172.jpg\n",
      "C:/Users/RAZER/Downloads/dataset/Micro_Organism/Set_1/train\\Paramecium\\Image_173.jpg\n",
      "C:/Users/RAZER/Downloads/dataset/Micro_Organism/Set_1/train\\Paramecium\\Image_174.jpg\n",
      "C:/Users/RAZER/Downloads/dataset/Micro_Organism/Set_1/train\\Paramecium\\Image_180.jpg\n",
      "C:/Users/RAZER/Downloads/dataset/Micro_Organism/Set_1/train\\Paramecium\\Image_181.jpg\n",
      "C:/Users/RAZER/Downloads/dataset/Micro_Organism/Set_1/train\\Paramecium\\Image_182.jpg\n",
      "C:/Users/RAZER/Downloads/dataset/Micro_Organism/Set_1/train\\Paramecium\\Image_183.jpg\n",
      "C:/Users/RAZER/Downloads/dataset/Micro_Organism/Set_1/train\\Paramecium\\Image_186.jpg\n",
      "C:/Users/RAZER/Downloads/dataset/Micro_Organism/Set_1/train\\Paramecium\\Image_187.jpg\n",
      "C:/Users/RAZER/Downloads/dataset/Micro_Organism/Set_1/train\\Paramecium\\Image_188.jpg\n",
      "C:/Users/RAZER/Downloads/dataset/Micro_Organism/Set_1/train\\Paramecium\\Image_189.jpg\n",
      "C:/Users/RAZER/Downloads/dataset/Micro_Organism/Set_1/train\\Paramecium\\Image_19.jpg\n",
      "C:/Users/RAZER/Downloads/dataset/Micro_Organism/Set_1/train\\Paramecium\\Image_190.jpg\n",
      "C:/Users/RAZER/Downloads/dataset/Micro_Organism/Set_1/train\\Paramecium\\Image_191.jpg\n",
      "C:/Users/RAZER/Downloads/dataset/Micro_Organism/Set_1/train\\Paramecium\\Image_192.jpg\n",
      "C:/Users/RAZER/Downloads/dataset/Micro_Organism/Set_1/train\\Paramecium\\Image_195.jpg\n",
      "C:/Users/RAZER/Downloads/dataset/Micro_Organism/Set_1/train\\Paramecium\\Image_196.jpg\n",
      "C:/Users/RAZER/Downloads/dataset/Micro_Organism/Set_1/train\\Paramecium\\Image_197.jpg\n",
      "C:/Users/RAZER/Downloads/dataset/Micro_Organism/Set_1/train\\Paramecium\\Image_2.jpg\n",
      "C:/Users/RAZER/Downloads/dataset/Micro_Organism/Set_1/train\\Paramecium\\Image_20.JPG\n",
      "C:/Users/RAZER/Downloads/dataset/Micro_Organism/Set_1/train\\Paramecium\\Image_200.jpg\n",
      "C:/Users/RAZER/Downloads/dataset/Micro_Organism/Set_1/train\\Paramecium\\Image_201.jpg\n",
      "C:/Users/RAZER/Downloads/dataset/Micro_Organism/Set_1/train\\Paramecium\\Image_202.jpg\n",
      "C:/Users/RAZER/Downloads/dataset/Micro_Organism/Set_1/train\\Paramecium\\Image_203.jpg\n",
      "C:/Users/RAZER/Downloads/dataset/Micro_Organism/Set_1/train\\Paramecium\\Image_204.jpg\n",
      "C:/Users/RAZER/Downloads/dataset/Micro_Organism/Set_1/train\\Paramecium\\Image_206.jpg\n",
      "C:/Users/RAZER/Downloads/dataset/Micro_Organism/Set_1/train\\Paramecium\\Image_208.jpg\n",
      "C:/Users/RAZER/Downloads/dataset/Micro_Organism/Set_1/train\\Paramecium\\Image_210.jpg\n",
      "C:/Users/RAZER/Downloads/dataset/Micro_Organism/Set_1/train\\Paramecium\\Image_211.jpg\n",
      "C:/Users/RAZER/Downloads/dataset/Micro_Organism/Set_1/train\\Paramecium\\Image_22.jpg\n",
      "C:/Users/RAZER/Downloads/dataset/Micro_Organism/Set_1/train\\Paramecium\\Image_25.jpg\n",
      "C:/Users/RAZER/Downloads/dataset/Micro_Organism/Set_1/train\\Paramecium\\Image_27.jpg\n",
      "C:/Users/RAZER/Downloads/dataset/Micro_Organism/Set_1/train\\Paramecium\\Image_28.jpg\n",
      "C:/Users/RAZER/Downloads/dataset/Micro_Organism/Set_1/train\\Paramecium\\Image_29.jpg\n",
      "C:/Users/RAZER/Downloads/dataset/Micro_Organism/Set_1/train\\Paramecium\\Image_3.jpg\n",
      "C:/Users/RAZER/Downloads/dataset/Micro_Organism/Set_1/train\\Paramecium\\Image_30.jpg\n",
      "C:/Users/RAZER/Downloads/dataset/Micro_Organism/Set_1/train\\Paramecium\\Image_32.jpg\n",
      "C:/Users/RAZER/Downloads/dataset/Micro_Organism/Set_1/train\\Paramecium\\Image_33.jpg\n",
      "C:/Users/RAZER/Downloads/dataset/Micro_Organism/Set_1/train\\Paramecium\\Image_34.jpg\n",
      "C:/Users/RAZER/Downloads/dataset/Micro_Organism/Set_1/train\\Paramecium\\Image_35.jpg\n",
      "C:/Users/RAZER/Downloads/dataset/Micro_Organism/Set_1/train\\Paramecium\\Image_36.JPG\n",
      "C:/Users/RAZER/Downloads/dataset/Micro_Organism/Set_1/train\\Paramecium\\Image_37.jpg\n",
      "C:/Users/RAZER/Downloads/dataset/Micro_Organism/Set_1/train\\Paramecium\\Image_39.jpg\n",
      "C:/Users/RAZER/Downloads/dataset/Micro_Organism/Set_1/train\\Paramecium\\Image_4.jpg\n",
      "C:/Users/RAZER/Downloads/dataset/Micro_Organism/Set_1/train\\Paramecium\\Image_40.jpg\n",
      "C:/Users/RAZER/Downloads/dataset/Micro_Organism/Set_1/train\\Paramecium\\Image_42.jpg\n",
      "C:/Users/RAZER/Downloads/dataset/Micro_Organism/Set_1/train\\Paramecium\\Image_43.jpg\n",
      "C:/Users/RAZER/Downloads/dataset/Micro_Organism/Set_1/train\\Paramecium\\Image_47.jpg\n",
      "C:/Users/RAZER/Downloads/dataset/Micro_Organism/Set_1/train\\Paramecium\\Image_48.jpg\n",
      "C:/Users/RAZER/Downloads/dataset/Micro_Organism/Set_1/train\\Paramecium\\Image_49.jpg\n",
      "C:/Users/RAZER/Downloads/dataset/Micro_Organism/Set_1/train\\Paramecium\\Image_5.jpg\n",
      "C:/Users/RAZER/Downloads/dataset/Micro_Organism/Set_1/train\\Paramecium\\Image_50.jpg\n",
      "C:/Users/RAZER/Downloads/dataset/Micro_Organism/Set_1/train\\Paramecium\\Image_51.jpg\n",
      "C:/Users/RAZER/Downloads/dataset/Micro_Organism/Set_1/train\\Paramecium\\Image_54.jpg\n",
      "C:/Users/RAZER/Downloads/dataset/Micro_Organism/Set_1/train\\Paramecium\\Image_55.jpg\n",
      "C:/Users/RAZER/Downloads/dataset/Micro_Organism/Set_1/train\\Paramecium\\Image_56.jpg\n",
      "C:/Users/RAZER/Downloads/dataset/Micro_Organism/Set_1/train\\Paramecium\\Image_57.jpg\n",
      "C:/Users/RAZER/Downloads/dataset/Micro_Organism/Set_1/train\\Paramecium\\Image_58.jpg\n",
      "C:/Users/RAZER/Downloads/dataset/Micro_Organism/Set_1/train\\Paramecium\\Image_59.jpg\n",
      "C:/Users/RAZER/Downloads/dataset/Micro_Organism/Set_1/train\\Paramecium\\Image_6.jpg\n"
     ]
    },
    {
     "name": "stderr",
     "output_type": "stream",
     "text": [
      " 50%|█████     | 4/8 [00:07<00:07,  1.86s/it]"
     ]
    },
    {
     "name": "stdout",
     "output_type": "stream",
     "text": [
      "C:/Users/RAZER/Downloads/dataset/Micro_Organism/Set_1/train\\Paramecium\\Image_60.jpg\n",
      "C:/Users/RAZER/Downloads/dataset/Micro_Organism/Set_1/train\\Paramecium\\Image_61.jpg\n",
      "C:/Users/RAZER/Downloads/dataset/Micro_Organism/Set_1/train\\Paramecium\\Image_62.jpg\n",
      "C:/Users/RAZER/Downloads/dataset/Micro_Organism/Set_1/train\\Paramecium\\Image_64.jpg\n",
      "C:/Users/RAZER/Downloads/dataset/Micro_Organism/Set_1/train\\Paramecium\\Image_66.jpg\n",
      "C:/Users/RAZER/Downloads/dataset/Micro_Organism/Set_1/train\\Paramecium\\Image_67.jpg\n",
      "Rod_bacteria\n",
      "C:/Users/RAZER/Downloads/dataset/Micro_Organism/Set_1/train\\Rod_bacteria\\Image_1.jpg\n",
      "C:/Users/RAZER/Downloads/dataset/Micro_Organism/Set_1/train\\Rod_bacteria\\Image_10.jpg\n",
      "C:/Users/RAZER/Downloads/dataset/Micro_Organism/Set_1/train\\Rod_bacteria\\Image_100.jpg\n",
      "C:/Users/RAZER/Downloads/dataset/Micro_Organism/Set_1/train\\Rod_bacteria\\Image_102.jpg\n",
      "C:/Users/RAZER/Downloads/dataset/Micro_Organism/Set_1/train\\Rod_bacteria\\Image_103.jpg\n",
      "C:/Users/RAZER/Downloads/dataset/Micro_Organism/Set_1/train\\Rod_bacteria\\Image_11.jpg\n",
      "C:/Users/RAZER/Downloads/dataset/Micro_Organism/Set_1/train\\Rod_bacteria\\Image_13.jpg\n",
      "C:/Users/RAZER/Downloads/dataset/Micro_Organism/Set_1/train\\Rod_bacteria\\Image_14.jpg\n",
      "C:/Users/RAZER/Downloads/dataset/Micro_Organism/Set_1/train\\Rod_bacteria\\Image_17.jpg\n",
      "C:/Users/RAZER/Downloads/dataset/Micro_Organism/Set_1/train\\Rod_bacteria\\Image_18.jpg\n",
      "C:/Users/RAZER/Downloads/dataset/Micro_Organism/Set_1/train\\Rod_bacteria\\Image_19.jpg\n",
      "C:/Users/RAZER/Downloads/dataset/Micro_Organism/Set_1/train\\Rod_bacteria\\Image_20.jpg\n",
      "C:/Users/RAZER/Downloads/dataset/Micro_Organism/Set_1/train\\Rod_bacteria\\Image_22.jpg\n",
      "C:/Users/RAZER/Downloads/dataset/Micro_Organism/Set_1/train\\Rod_bacteria\\Image_23.jpg\n",
      "C:/Users/RAZER/Downloads/dataset/Micro_Organism/Set_1/train\\Rod_bacteria\\Image_24.jpg\n",
      "C:/Users/RAZER/Downloads/dataset/Micro_Organism/Set_1/train\\Rod_bacteria\\Image_25.jpg\n",
      "C:/Users/RAZER/Downloads/dataset/Micro_Organism/Set_1/train\\Rod_bacteria\\Image_27.jpg\n",
      "C:/Users/RAZER/Downloads/dataset/Micro_Organism/Set_1/train\\Rod_bacteria\\Image_28.jpg\n",
      "C:/Users/RAZER/Downloads/dataset/Micro_Organism/Set_1/train\\Rod_bacteria\\Image_3.jpg\n",
      "C:/Users/RAZER/Downloads/dataset/Micro_Organism/Set_1/train\\Rod_bacteria\\Image_30.jpg\n",
      "C:/Users/RAZER/Downloads/dataset/Micro_Organism/Set_1/train\\Rod_bacteria\\Image_32.jpg\n",
      "C:/Users/RAZER/Downloads/dataset/Micro_Organism/Set_1/train\\Rod_bacteria\\Image_33.jpg\n",
      "C:/Users/RAZER/Downloads/dataset/Micro_Organism/Set_1/train\\Rod_bacteria\\Image_35.jpg\n",
      "C:/Users/RAZER/Downloads/dataset/Micro_Organism/Set_1/train\\Rod_bacteria\\Image_36.jpg\n",
      "C:/Users/RAZER/Downloads/dataset/Micro_Organism/Set_1/train\\Rod_bacteria\\Image_39.jpg\n",
      "C:/Users/RAZER/Downloads/dataset/Micro_Organism/Set_1/train\\Rod_bacteria\\Image_4.jpg\n",
      "C:/Users/RAZER/Downloads/dataset/Micro_Organism/Set_1/train\\Rod_bacteria\\Image_41.jpg\n",
      "C:/Users/RAZER/Downloads/dataset/Micro_Organism/Set_1/train\\Rod_bacteria\\Image_42.jpg\n",
      "C:/Users/RAZER/Downloads/dataset/Micro_Organism/Set_1/train\\Rod_bacteria\\Image_43.jpg\n",
      "C:/Users/RAZER/Downloads/dataset/Micro_Organism/Set_1/train\\Rod_bacteria\\Image_45.jpg\n",
      "C:/Users/RAZER/Downloads/dataset/Micro_Organism/Set_1/train\\Rod_bacteria\\Image_46.jpg\n",
      "C:/Users/RAZER/Downloads/dataset/Micro_Organism/Set_1/train\\Rod_bacteria\\Image_47.jpg\n",
      "C:/Users/RAZER/Downloads/dataset/Micro_Organism/Set_1/train\\Rod_bacteria\\Image_49.jpg\n",
      "C:/Users/RAZER/Downloads/dataset/Micro_Organism/Set_1/train\\Rod_bacteria\\Image_52.jpg\n",
      "C:/Users/RAZER/Downloads/dataset/Micro_Organism/Set_1/train\\Rod_bacteria\\Image_55.jpg\n",
      "C:/Users/RAZER/Downloads/dataset/Micro_Organism/Set_1/train\\Rod_bacteria\\Image_56.jpg\n",
      "C:/Users/RAZER/Downloads/dataset/Micro_Organism/Set_1/train\\Rod_bacteria\\Image_57.jpg\n",
      "C:/Users/RAZER/Downloads/dataset/Micro_Organism/Set_1/train\\Rod_bacteria\\Image_58.jpg\n",
      "C:/Users/RAZER/Downloads/dataset/Micro_Organism/Set_1/train\\Rod_bacteria\\Image_59.jpg\n",
      "C:/Users/RAZER/Downloads/dataset/Micro_Organism/Set_1/train\\Rod_bacteria\\Image_6.jpg\n",
      "C:/Users/RAZER/Downloads/dataset/Micro_Organism/Set_1/train\\Rod_bacteria\\Image_60.jpg\n",
      "C:/Users/RAZER/Downloads/dataset/Micro_Organism/Set_1/train\\Rod_bacteria\\Image_63.jpg\n",
      "C:/Users/RAZER/Downloads/dataset/Micro_Organism/Set_1/train\\Rod_bacteria\\Image_64.jpg\n",
      "C:/Users/RAZER/Downloads/dataset/Micro_Organism/Set_1/train\\Rod_bacteria\\Image_65.jpg\n",
      "C:/Users/RAZER/Downloads/dataset/Micro_Organism/Set_1/train\\Rod_bacteria\\Image_67.jpg\n",
      "C:/Users/RAZER/Downloads/dataset/Micro_Organism/Set_1/train\\Rod_bacteria\\Image_68.jpg\n",
      "C:/Users/RAZER/Downloads/dataset/Micro_Organism/Set_1/train\\Rod_bacteria\\Image_69.jpg\n",
      "C:/Users/RAZER/Downloads/dataset/Micro_Organism/Set_1/train\\Rod_bacteria\\Image_70.jpg\n"
     ]
    },
    {
     "name": "stderr",
     "output_type": "stream",
     "text": [
      " 62%|██████▎   | 5/8 [00:08<00:04,  1.62s/it]"
     ]
    },
    {
     "name": "stdout",
     "output_type": "stream",
     "text": [
      "C:/Users/RAZER/Downloads/dataset/Micro_Organism/Set_1/train\\Rod_bacteria\\Image_71.jpg\n",
      "C:/Users/RAZER/Downloads/dataset/Micro_Organism/Set_1/train\\Rod_bacteria\\Image_72.jpg\n",
      "C:/Users/RAZER/Downloads/dataset/Micro_Organism/Set_1/train\\Rod_bacteria\\Image_75.jpg\n",
      "C:/Users/RAZER/Downloads/dataset/Micro_Organism/Set_1/train\\Rod_bacteria\\Image_76.jpg\n",
      "C:/Users/RAZER/Downloads/dataset/Micro_Organism/Set_1/train\\Rod_bacteria\\Image_77.jpg\n",
      "C:/Users/RAZER/Downloads/dataset/Micro_Organism/Set_1/train\\Rod_bacteria\\Image_78.jpg\n",
      "C:/Users/RAZER/Downloads/dataset/Micro_Organism/Set_1/train\\Rod_bacteria\\Image_79.jpg\n",
      "C:/Users/RAZER/Downloads/dataset/Micro_Organism/Set_1/train\\Rod_bacteria\\Image_8.jpg\n",
      "C:/Users/RAZER/Downloads/dataset/Micro_Organism/Set_1/train\\Rod_bacteria\\Image_81.jpg\n",
      "Spherical_bacteria\n",
      "C:/Users/RAZER/Downloads/dataset/Micro_Organism/Set_1/train\\Spherical_bacteria\\Image_106.jpg\n",
      "C:/Users/RAZER/Downloads/dataset/Micro_Organism/Set_1/train\\Spherical_bacteria\\Image_107.jpg\n",
      "C:/Users/RAZER/Downloads/dataset/Micro_Organism/Set_1/train\\Spherical_bacteria\\Image_109.jpg\n",
      "C:/Users/RAZER/Downloads/dataset/Micro_Organism/Set_1/train\\Spherical_bacteria\\Image_11.jpg\n",
      "C:/Users/RAZER/Downloads/dataset/Micro_Organism/Set_1/train\\Spherical_bacteria\\Image_110.jpg\n",
      "C:/Users/RAZER/Downloads/dataset/Micro_Organism/Set_1/train\\Spherical_bacteria\\Image_112.jpg\n",
      "C:/Users/RAZER/Downloads/dataset/Micro_Organism/Set_1/train\\Spherical_bacteria\\Image_113.jpg\n",
      "C:/Users/RAZER/Downloads/dataset/Micro_Organism/Set_1/train\\Spherical_bacteria\\Image_115.jpg\n",
      "C:/Users/RAZER/Downloads/dataset/Micro_Organism/Set_1/train\\Spherical_bacteria\\Image_116.jpg\n",
      "C:/Users/RAZER/Downloads/dataset/Micro_Organism/Set_1/train\\Spherical_bacteria\\Image_124.jpg\n",
      "C:/Users/RAZER/Downloads/dataset/Micro_Organism/Set_1/train\\Spherical_bacteria\\Image_133.jpg\n",
      "C:/Users/RAZER/Downloads/dataset/Micro_Organism/Set_1/train\\Spherical_bacteria\\Image_145.jpg\n",
      "C:/Users/RAZER/Downloads/dataset/Micro_Organism/Set_1/train\\Spherical_bacteria\\Image_146.jpg\n",
      "C:/Users/RAZER/Downloads/dataset/Micro_Organism/Set_1/train\\Spherical_bacteria\\Image_148.jpg\n",
      "C:/Users/RAZER/Downloads/dataset/Micro_Organism/Set_1/train\\Spherical_bacteria\\Image_153.jpg\n",
      "C:/Users/RAZER/Downloads/dataset/Micro_Organism/Set_1/train\\Spherical_bacteria\\Image_155.jpg\n",
      "C:/Users/RAZER/Downloads/dataset/Micro_Organism/Set_1/train\\Spherical_bacteria\\Image_161.jpg\n",
      "C:/Users/RAZER/Downloads/dataset/Micro_Organism/Set_1/train\\Spherical_bacteria\\Image_162.jpg\n",
      "C:/Users/RAZER/Downloads/dataset/Micro_Organism/Set_1/train\\Spherical_bacteria\\Image_163.jpg\n",
      "C:/Users/RAZER/Downloads/dataset/Micro_Organism/Set_1/train\\Spherical_bacteria\\Image_164.jpg\n",
      "C:/Users/RAZER/Downloads/dataset/Micro_Organism/Set_1/train\\Spherical_bacteria\\Image_174.jpg\n",
      "C:/Users/RAZER/Downloads/dataset/Micro_Organism/Set_1/train\\Spherical_bacteria\\Image_18.jpg\n",
      "C:/Users/RAZER/Downloads/dataset/Micro_Organism/Set_1/train\\Spherical_bacteria\\Image_228.jpg\n",
      "C:/Users/RAZER/Downloads/dataset/Micro_Organism/Set_1/train\\Spherical_bacteria\\Image_229.jpg\n",
      "C:/Users/RAZER/Downloads/dataset/Micro_Organism/Set_1/train\\Spherical_bacteria\\Image_230.jpg\n",
      "C:/Users/RAZER/Downloads/dataset/Micro_Organism/Set_1/train\\Spherical_bacteria\\Image_235.jpg\n",
      "C:/Users/RAZER/Downloads/dataset/Micro_Organism/Set_1/train\\Spherical_bacteria\\Image_238.jpg\n",
      "C:/Users/RAZER/Downloads/dataset/Micro_Organism/Set_1/train\\Spherical_bacteria\\Image_24.jpg\n",
      "C:/Users/RAZER/Downloads/dataset/Micro_Organism/Set_1/train\\Spherical_bacteria\\Image_243.jpg\n",
      "C:/Users/RAZER/Downloads/dataset/Micro_Organism/Set_1/train\\Spherical_bacteria\\Image_245.jpg\n",
      "C:/Users/RAZER/Downloads/dataset/Micro_Organism/Set_1/train\\Spherical_bacteria\\Image_25.jpg\n",
      "C:/Users/RAZER/Downloads/dataset/Micro_Organism/Set_1/train\\Spherical_bacteria\\Image_253.jpg\n",
      "C:/Users/RAZER/Downloads/dataset/Micro_Organism/Set_1/train\\Spherical_bacteria\\Image_257.jpg\n",
      "C:/Users/RAZER/Downloads/dataset/Micro_Organism/Set_1/train\\Spherical_bacteria\\Image_259.jpg\n",
      "C:/Users/RAZER/Downloads/dataset/Micro_Organism/Set_1/train\\Spherical_bacteria\\Image_27.jpg\n",
      "C:/Users/RAZER/Downloads/dataset/Micro_Organism/Set_1/train\\Spherical_bacteria\\Image_282.jpg\n",
      "C:/Users/RAZER/Downloads/dataset/Micro_Organism/Set_1/train\\Spherical_bacteria\\Image_286.jpg\n",
      "C:/Users/RAZER/Downloads/dataset/Micro_Organism/Set_1/train\\Spherical_bacteria\\Image_289.jpg\n",
      "C:/Users/RAZER/Downloads/dataset/Micro_Organism/Set_1/train\\Spherical_bacteria\\Image_299.jpg\n",
      "C:/Users/RAZER/Downloads/dataset/Micro_Organism/Set_1/train\\Spherical_bacteria\\Image_30.jpg\n",
      "C:/Users/RAZER/Downloads/dataset/Micro_Organism/Set_1/train\\Spherical_bacteria\\Image_303.jpg\n",
      "C:/Users/RAZER/Downloads/dataset/Micro_Organism/Set_1/train\\Spherical_bacteria\\Image_304.jpg\n",
      "C:/Users/RAZER/Downloads/dataset/Micro_Organism/Set_1/train\\Spherical_bacteria\\Image_305.jpg\n",
      "C:/Users/RAZER/Downloads/dataset/Micro_Organism/Set_1/train\\Spherical_bacteria\\Image_306.jpg\n",
      "C:/Users/RAZER/Downloads/dataset/Micro_Organism/Set_1/train\\Spherical_bacteria\\Image_309.jpg\n",
      "C:/Users/RAZER/Downloads/dataset/Micro_Organism/Set_1/train\\Spherical_bacteria\\Image_31.jpg\n",
      "C:/Users/RAZER/Downloads/dataset/Micro_Organism/Set_1/train\\Spherical_bacteria\\Image_311.jpg\n",
      "C:/Users/RAZER/Downloads/dataset/Micro_Organism/Set_1/train\\Spherical_bacteria\\Image_315.jpg\n",
      "C:/Users/RAZER/Downloads/dataset/Micro_Organism/Set_1/train\\Spherical_bacteria\\Image_320.jpg\n",
      "C:/Users/RAZER/Downloads/dataset/Micro_Organism/Set_1/train\\Spherical_bacteria\\Image_325.jpg\n",
      "C:/Users/RAZER/Downloads/dataset/Micro_Organism/Set_1/train\\Spherical_bacteria\\Image_329.jpg\n",
      "C:/Users/RAZER/Downloads/dataset/Micro_Organism/Set_1/train\\Spherical_bacteria\\Image_331.jpg\n",
      "C:/Users/RAZER/Downloads/dataset/Micro_Organism/Set_1/train\\Spherical_bacteria\\Image_332.jpg\n",
      "C:/Users/RAZER/Downloads/dataset/Micro_Organism/Set_1/train\\Spherical_bacteria\\Image_334.jpg\n",
      "C:/Users/RAZER/Downloads/dataset/Micro_Organism/Set_1/train\\Spherical_bacteria\\Image_336.jpg\n",
      "C:/Users/RAZER/Downloads/dataset/Micro_Organism/Set_1/train\\Spherical_bacteria\\Image_337.jpg\n"
     ]
    },
    {
     "name": "stderr",
     "output_type": "stream",
     "text": [
      " 75%|███████▌  | 6/8 [00:10<00:03,  1.52s/it]"
     ]
    },
    {
     "name": "stdout",
     "output_type": "stream",
     "text": [
      "C:/Users/RAZER/Downloads/dataset/Micro_Organism/Set_1/train\\Spherical_bacteria\\Image_34.jpg\n",
      "C:/Users/RAZER/Downloads/dataset/Micro_Organism/Set_1/train\\Spherical_bacteria\\Image_38.jpg\n",
      "C:/Users/RAZER/Downloads/dataset/Micro_Organism/Set_1/train\\Spherical_bacteria\\Image_4.jpg\n",
      "C:/Users/RAZER/Downloads/dataset/Micro_Organism/Set_1/train\\Spherical_bacteria\\Image_43.jpg\n",
      "C:/Users/RAZER/Downloads/dataset/Micro_Organism/Set_1/train\\Spherical_bacteria\\Image_45.jpg\n",
      "C:/Users/RAZER/Downloads/dataset/Micro_Organism/Set_1/train\\Spherical_bacteria\\Image_46.jpg\n",
      "Spiral_bacteria\n",
      "C:/Users/RAZER/Downloads/dataset/Micro_Organism/Set_1/train\\Spiral_bacteria\\images_95.jpg\n",
      "C:/Users/RAZER/Downloads/dataset/Micro_Organism/Set_1/train\\Spiral_bacteria\\images_96.jpg\n",
      "C:/Users/RAZER/Downloads/dataset/Micro_Organism/Set_1/train\\Spiral_bacteria\\images_99.jpg\n",
      "C:/Users/RAZER/Downloads/dataset/Micro_Organism/Set_1/train\\Spiral_bacteria\\image_1.jpg\n",
      "C:/Users/RAZER/Downloads/dataset/Micro_Organism/Set_1/train\\Spiral_bacteria\\image_100.jpg\n",
      "C:/Users/RAZER/Downloads/dataset/Micro_Organism/Set_1/train\\Spiral_bacteria\\image_101.jpg\n",
      "C:/Users/RAZER/Downloads/dataset/Micro_Organism/Set_1/train\\Spiral_bacteria\\image_102.jpg\n",
      "C:/Users/RAZER/Downloads/dataset/Micro_Organism/Set_1/train\\Spiral_bacteria\\image_103.jpg\n",
      "C:/Users/RAZER/Downloads/dataset/Micro_Organism/Set_1/train\\Spiral_bacteria\\Image_11.jpg\n",
      "C:/Users/RAZER/Downloads/dataset/Micro_Organism/Set_1/train\\Spiral_bacteria\\Image_14.jpg\n",
      "C:/Users/RAZER/Downloads/dataset/Micro_Organism/Set_1/train\\Spiral_bacteria\\Image_15.jpg\n",
      "C:/Users/RAZER/Downloads/dataset/Micro_Organism/Set_1/train\\Spiral_bacteria\\Image_16.jpg\n",
      "C:/Users/RAZER/Downloads/dataset/Micro_Organism/Set_1/train\\Spiral_bacteria\\Image_19.jpg\n",
      "C:/Users/RAZER/Downloads/dataset/Micro_Organism/Set_1/train\\Spiral_bacteria\\Image_2.jpg\n",
      "C:/Users/RAZER/Downloads/dataset/Micro_Organism/Set_1/train\\Spiral_bacteria\\Image_20.jpg\n",
      "C:/Users/RAZER/Downloads/dataset/Micro_Organism/Set_1/train\\Spiral_bacteria\\Image_23.jpg\n",
      "C:/Users/RAZER/Downloads/dataset/Micro_Organism/Set_1/train\\Spiral_bacteria\\Image_24.jpg\n",
      "C:/Users/RAZER/Downloads/dataset/Micro_Organism/Set_1/train\\Spiral_bacteria\\Image_26.jpg\n",
      "C:/Users/RAZER/Downloads/dataset/Micro_Organism/Set_1/train\\Spiral_bacteria\\Image_28.jpg\n",
      "C:/Users/RAZER/Downloads/dataset/Micro_Organism/Set_1/train\\Spiral_bacteria\\Image_29.jpg\n",
      "C:/Users/RAZER/Downloads/dataset/Micro_Organism/Set_1/train\\Spiral_bacteria\\Image_3.jpg\n",
      "C:/Users/RAZER/Downloads/dataset/Micro_Organism/Set_1/train\\Spiral_bacteria\\Image_36.jpg\n",
      "C:/Users/RAZER/Downloads/dataset/Micro_Organism/Set_1/train\\Spiral_bacteria\\Image_37.jpg\n",
      "C:/Users/RAZER/Downloads/dataset/Micro_Organism/Set_1/train\\Spiral_bacteria\\Image_4.jpg\n",
      "C:/Users/RAZER/Downloads/dataset/Micro_Organism/Set_1/train\\Spiral_bacteria\\Image_40.jpg\n",
      "C:/Users/RAZER/Downloads/dataset/Micro_Organism/Set_1/train\\Spiral_bacteria\\Image_41.jpg\n",
      "C:/Users/RAZER/Downloads/dataset/Micro_Organism/Set_1/train\\Spiral_bacteria\\Image_42.jpg\n",
      "C:/Users/RAZER/Downloads/dataset/Micro_Organism/Set_1/train\\Spiral_bacteria\\Image_43.jpg\n",
      "C:/Users/RAZER/Downloads/dataset/Micro_Organism/Set_1/train\\Spiral_bacteria\\Image_46.jpg\n",
      "C:/Users/RAZER/Downloads/dataset/Micro_Organism/Set_1/train\\Spiral_bacteria\\Image_48.jpg\n",
      "C:/Users/RAZER/Downloads/dataset/Micro_Organism/Set_1/train\\Spiral_bacteria\\Image_49.jpg\n",
      "C:/Users/RAZER/Downloads/dataset/Micro_Organism/Set_1/train\\Spiral_bacteria\\Image_5.jpg\n",
      "C:/Users/RAZER/Downloads/dataset/Micro_Organism/Set_1/train\\Spiral_bacteria\\Image_50.jpg\n",
      "C:/Users/RAZER/Downloads/dataset/Micro_Organism/Set_1/train\\Spiral_bacteria\\Image_52.jpg\n",
      "C:/Users/RAZER/Downloads/dataset/Micro_Organism/Set_1/train\\Spiral_bacteria\\Image_53.jpg\n",
      "C:/Users/RAZER/Downloads/dataset/Micro_Organism/Set_1/train\\Spiral_bacteria\\Image_55.jpg\n",
      "C:/Users/RAZER/Downloads/dataset/Micro_Organism/Set_1/train\\Spiral_bacteria\\Image_57.jpg\n",
      "C:/Users/RAZER/Downloads/dataset/Micro_Organism/Set_1/train\\Spiral_bacteria\\Image_58.jpg\n",
      "C:/Users/RAZER/Downloads/dataset/Micro_Organism/Set_1/train\\Spiral_bacteria\\Image_59.jpg\n",
      "C:/Users/RAZER/Downloads/dataset/Micro_Organism/Set_1/train\\Spiral_bacteria\\Image_60.jpg\n",
      "C:/Users/RAZER/Downloads/dataset/Micro_Organism/Set_1/train\\Spiral_bacteria\\Image_61.jpg\n",
      "C:/Users/RAZER/Downloads/dataset/Micro_Organism/Set_1/train\\Spiral_bacteria\\Image_63.jpg\n",
      "C:/Users/RAZER/Downloads/dataset/Micro_Organism/Set_1/train\\Spiral_bacteria\\Image_64.jpg\n",
      "C:/Users/RAZER/Downloads/dataset/Micro_Organism/Set_1/train\\Spiral_bacteria\\Image_66.jpg\n",
      "C:/Users/RAZER/Downloads/dataset/Micro_Organism/Set_1/train\\Spiral_bacteria\\Image_67.jpg\n"
     ]
    },
    {
     "name": "stderr",
     "output_type": "stream",
     "text": [
      " 88%|████████▊ | 7/8 [00:11<00:01,  1.40s/it]"
     ]
    },
    {
     "name": "stdout",
     "output_type": "stream",
     "text": [
      "C:/Users/RAZER/Downloads/dataset/Micro_Organism/Set_1/train\\Spiral_bacteria\\image_68.jpg\n",
      "C:/Users/RAZER/Downloads/dataset/Micro_Organism/Set_1/train\\Spiral_bacteria\\image_69.jpg\n",
      "C:/Users/RAZER/Downloads/dataset/Micro_Organism/Set_1/train\\Spiral_bacteria\\image_70.jpg\n",
      "C:/Users/RAZER/Downloads/dataset/Micro_Organism/Set_1/train\\Spiral_bacteria\\image_71.jpg\n",
      "C:/Users/RAZER/Downloads/dataset/Micro_Organism/Set_1/train\\Spiral_bacteria\\image_72.jpg\n",
      "C:/Users/RAZER/Downloads/dataset/Micro_Organism/Set_1/train\\Spiral_bacteria\\image_73.jpg\n",
      "C:/Users/RAZER/Downloads/dataset/Micro_Organism/Set_1/train\\Spiral_bacteria\\image_74.jpg\n",
      "C:/Users/RAZER/Downloads/dataset/Micro_Organism/Set_1/train\\Spiral_bacteria\\image_75.jpg\n",
      "C:/Users/RAZER/Downloads/dataset/Micro_Organism/Set_1/train\\Spiral_bacteria\\image_76.jpg\n",
      "Yeast\n",
      "C:/Users/RAZER/Downloads/dataset/Micro_Organism/Set_1/train\\Yeast\\Image_1.jpg\n",
      "C:/Users/RAZER/Downloads/dataset/Micro_Organism/Set_1/train\\Yeast\\Image_11.jpg\n",
      "C:/Users/RAZER/Downloads/dataset/Micro_Organism/Set_1/train\\Yeast\\Image_12.jpg\n",
      "C:/Users/RAZER/Downloads/dataset/Micro_Organism/Set_1/train\\Yeast\\Image_13.jpg\n",
      "C:/Users/RAZER/Downloads/dataset/Micro_Organism/Set_1/train\\Yeast\\Image_14.jpg\n",
      "C:/Users/RAZER/Downloads/dataset/Micro_Organism/Set_1/train\\Yeast\\Image_15.jpg\n",
      "C:/Users/RAZER/Downloads/dataset/Micro_Organism/Set_1/train\\Yeast\\Image_16.jpg\n",
      "C:/Users/RAZER/Downloads/dataset/Micro_Organism/Set_1/train\\Yeast\\Image_18.jpg\n",
      "C:/Users/RAZER/Downloads/dataset/Micro_Organism/Set_1/train\\Yeast\\Image_19.jpg\n",
      "C:/Users/RAZER/Downloads/dataset/Micro_Organism/Set_1/train\\Yeast\\Image_2.jpg\n",
      "C:/Users/RAZER/Downloads/dataset/Micro_Organism/Set_1/train\\Yeast\\Image_21.jpg\n",
      "C:/Users/RAZER/Downloads/dataset/Micro_Organism/Set_1/train\\Yeast\\Image_22.jpg\n",
      "C:/Users/RAZER/Downloads/dataset/Micro_Organism/Set_1/train\\Yeast\\Image_24.jpg\n",
      "C:/Users/RAZER/Downloads/dataset/Micro_Organism/Set_1/train\\Yeast\\Image_25.jpg\n",
      "C:/Users/RAZER/Downloads/dataset/Micro_Organism/Set_1/train\\Yeast\\Image_26.jpg\n",
      "C:/Users/RAZER/Downloads/dataset/Micro_Organism/Set_1/train\\Yeast\\Image_27.jpg\n",
      "C:/Users/RAZER/Downloads/dataset/Micro_Organism/Set_1/train\\Yeast\\Image_28.jpg\n",
      "C:/Users/RAZER/Downloads/dataset/Micro_Organism/Set_1/train\\Yeast\\Image_29.jpg\n",
      "C:/Users/RAZER/Downloads/dataset/Micro_Organism/Set_1/train\\Yeast\\Image_3.JPG\n",
      "C:/Users/RAZER/Downloads/dataset/Micro_Organism/Set_1/train\\Yeast\\Image_30.jpg\n",
      "C:/Users/RAZER/Downloads/dataset/Micro_Organism/Set_1/train\\Yeast\\Image_31.jpg\n",
      "C:/Users/RAZER/Downloads/dataset/Micro_Organism/Set_1/train\\Yeast\\Image_32.jpg\n",
      "C:/Users/RAZER/Downloads/dataset/Micro_Organism/Set_1/train\\Yeast\\Image_33.jpg\n",
      "C:/Users/RAZER/Downloads/dataset/Micro_Organism/Set_1/train\\Yeast\\Image_34.jpg\n",
      "C:/Users/RAZER/Downloads/dataset/Micro_Organism/Set_1/train\\Yeast\\Image_35.jpg\n",
      "C:/Users/RAZER/Downloads/dataset/Micro_Organism/Set_1/train\\Yeast\\Image_36.jpg\n",
      "C:/Users/RAZER/Downloads/dataset/Micro_Organism/Set_1/train\\Yeast\\Image_37.jpg\n",
      "C:/Users/RAZER/Downloads/dataset/Micro_Organism/Set_1/train\\Yeast\\Image_38.jpg\n",
      "C:/Users/RAZER/Downloads/dataset/Micro_Organism/Set_1/train\\Yeast\\Image_39.jpg\n",
      "C:/Users/RAZER/Downloads/dataset/Micro_Organism/Set_1/train\\Yeast\\Image_4.jpg\n",
      "C:/Users/RAZER/Downloads/dataset/Micro_Organism/Set_1/train\\Yeast\\Image_40.jpg\n",
      "C:/Users/RAZER/Downloads/dataset/Micro_Organism/Set_1/train\\Yeast\\Image_41.jpg\n",
      "C:/Users/RAZER/Downloads/dataset/Micro_Organism/Set_1/train\\Yeast\\Image_42.jpg\n",
      "C:/Users/RAZER/Downloads/dataset/Micro_Organism/Set_1/train\\Yeast\\Image_43.jpg\n",
      "C:/Users/RAZER/Downloads/dataset/Micro_Organism/Set_1/train\\Yeast\\Image_46.jpg\n",
      "C:/Users/RAZER/Downloads/dataset/Micro_Organism/Set_1/train\\Yeast\\Image_47.jpg\n",
      "C:/Users/RAZER/Downloads/dataset/Micro_Organism/Set_1/train\\Yeast\\Image_48.jpg\n",
      "C:/Users/RAZER/Downloads/dataset/Micro_Organism/Set_1/train\\Yeast\\Image_5.jpg\n",
      "C:/Users/RAZER/Downloads/dataset/Micro_Organism/Set_1/train\\Yeast\\Image_50.jpg\n",
      "C:/Users/RAZER/Downloads/dataset/Micro_Organism/Set_1/train\\Yeast\\Image_51.jpg\n",
      "C:/Users/RAZER/Downloads/dataset/Micro_Organism/Set_1/train\\Yeast\\Image_52.jpg\n",
      "C:/Users/RAZER/Downloads/dataset/Micro_Organism/Set_1/train\\Yeast\\Image_53.jpg\n",
      "C:/Users/RAZER/Downloads/dataset/Micro_Organism/Set_1/train\\Yeast\\Image_56.jpg\n",
      "C:/Users/RAZER/Downloads/dataset/Micro_Organism/Set_1/train\\Yeast\\Image_57.jpg\n",
      "C:/Users/RAZER/Downloads/dataset/Micro_Organism/Set_1/train\\Yeast\\image_58.jpg\n",
      "C:/Users/RAZER/Downloads/dataset/Micro_Organism/Set_1/train\\Yeast\\image_59.jpg\n",
      "C:/Users/RAZER/Downloads/dataset/Micro_Organism/Set_1/train\\Yeast\\Image_6.jpg\n",
      "C:/Users/RAZER/Downloads/dataset/Micro_Organism/Set_1/train\\Yeast\\image_60.jpg\n",
      "C:/Users/RAZER/Downloads/dataset/Micro_Organism/Set_1/train\\Yeast\\image_61.jpg\n",
      "C:/Users/RAZER/Downloads/dataset/Micro_Organism/Set_1/train\\Yeast\\image_62.jpg\n",
      "C:/Users/RAZER/Downloads/dataset/Micro_Organism/Set_1/train\\Yeast\\image_64.jpg\n",
      "C:/Users/RAZER/Downloads/dataset/Micro_Organism/Set_1/train\\Yeast\\image_65.jpg\n",
      "C:/Users/RAZER/Downloads/dataset/Micro_Organism/Set_1/train\\Yeast\\image_66.jpg\n",
      "C:/Users/RAZER/Downloads/dataset/Micro_Organism/Set_1/train\\Yeast\\image_67.jpg\n"
     ]
    },
    {
     "name": "stderr",
     "output_type": "stream",
     "text": [
      "100%|██████████| 8/8 [00:12<00:00,  1.55s/it]"
     ]
    },
    {
     "name": "stdout",
     "output_type": "stream",
     "text": [
      "C:/Users/RAZER/Downloads/dataset/Micro_Organism/Set_1/train\\Yeast\\image_68.jpg\n",
      "C:/Users/RAZER/Downloads/dataset/Micro_Organism/Set_1/train\\Yeast\\image_69.jpg\n",
      "C:/Users/RAZER/Downloads/dataset/Micro_Organism/Set_1/train\\Yeast\\Image_7.jpg\n"
     ]
    },
    {
     "name": "stderr",
     "output_type": "stream",
     "text": [
      "\n"
     ]
    }
   ],
   "source": [
    "#Capture training data and labels into respective lists\n",
    "train_images = []\n",
    "train_labels = [] \n",
    "\n",
    "for directory_path in tqdm(glob.glob(path+\"/*\")):\n",
    "    label = directory_path.split(\"\\\\\")[-1]\n",
    "    print(label)\n",
    "    for img_path in glob.glob(os.path.join(directory_path, \"*.jpg\")):\n",
    "        print(img_path)\n",
    "        img = cv2.imread(img_path, cv2.IMREAD_COLOR)       \n",
    "        img = cv2.resize(img, (SIZE, SIZE))\n",
    "        img = cv2.cvtColor(img, cv2.COLOR_RGB2BGR)\n",
    "        train_images.append(img)\n",
    "        train_labels.append(label)\n",
    "\n",
    "#Convert lists to arrays        \n",
    "train_images = np.array(train_images)\n",
    "train_labels = np.array(train_labels)\n"
   ]
  },
  {
   "cell_type": "code",
   "execution_count": 8,
   "metadata": {},
   "outputs": [
    {
     "data": {
      "text/plain": [
       "(585, 256, 256, 3)"
      ]
     },
     "execution_count": 8,
     "metadata": {},
     "output_type": "execute_result"
    }
   ],
   "source": [
    "train_images.shape # total image - 585, each images has dymnsion of 256X256X3"
   ]
  },
  {
   "cell_type": "code",
   "execution_count": 9,
   "metadata": {},
   "outputs": [
    {
     "name": "stderr",
     "output_type": "stream",
     "text": [
      "100%|██████████| 8/8 [00:02<00:00,  3.02it/s]\n"
     ]
    }
   ],
   "source": [
    "# Capture test/validation data and labels into respective lists\n",
    "\n",
    "test_images = []\n",
    "test_labels = [] \n",
    "for directory_path in tqdm(glob.glob(path_2+\"/*\")):\n",
    "    fruit_label = directory_path.split(\"\\\\\")[-1]\n",
    "    for img_path in glob.glob(os.path.join(directory_path, \"*.jpg\")):\n",
    "        img = cv2.imread(img_path, cv2.IMREAD_COLOR)\n",
    "        img = cv2.resize(img, (SIZE, SIZE))\n",
    "        img = cv2.cvtColor(img, cv2.COLOR_RGB2BGR)\n",
    "        test_images.append(img)\n",
    "        test_labels.append(fruit_label)\n",
    "\n",
    "#Convert lists to arrays                \n",
    "test_images = np.array(test_images)\n",
    "test_labels = np.array(test_labels)\n"
   ]
  },
  {
   "cell_type": "code",
   "execution_count": 10,
   "metadata": {},
   "outputs": [
    {
     "data": {
      "text/plain": [
       "(147, 256, 256, 3)"
      ]
     },
     "execution_count": 10,
     "metadata": {},
     "output_type": "execute_result"
    }
   ],
   "source": [
    "test_images.shape"
   ]
  },
  {
   "cell_type": "code",
   "execution_count": 11,
   "metadata": {},
   "outputs": [],
   "source": [
    "#Encode labels from text to integers.\n",
    "le = preprocessing.LabelEncoder()\n",
    "le.fit(test_labels)\n",
    "test_labels_encoded = le.transform(test_labels)\n",
    "le.fit(train_labels)\n",
    "train_labels_encoded = le.transform(train_labels)\n",
    "\n",
    "#Split data into test and train datasets (already split but assigning to meaningful convention)\n",
    "x_train, y_train, x_test, y_test = train_images, train_labels_encoded, test_images, test_labels_encoded\n"
   ]
  },
  {
   "cell_type": "code",
   "execution_count": 12,
   "metadata": {},
   "outputs": [
    {
     "data": {
      "text/plain": [
       "array([0, 0, 0, 0, 0, 0, 0, 0, 0, 0, 0, 0, 0, 0, 0, 0, 0, 0, 0, 0, 0, 0,\n",
       "       0, 0, 0, 0, 0, 0, 0, 0, 0, 0, 0, 0, 0, 0, 0, 0, 0, 0, 0, 0, 0, 0,\n",
       "       0, 0, 0, 0, 0, 0, 0, 0, 0, 0, 1, 1, 1, 1, 1, 1, 1, 1, 1, 1, 1, 1,\n",
       "       1, 1, 1, 1, 1, 1, 1, 1, 1, 1, 1, 1, 1, 1, 1, 1, 1, 1, 1, 1, 1, 1,\n",
       "       1, 1, 1, 1, 1, 1, 1, 1, 1, 1, 1, 1, 1, 1, 1, 1, 1, 1, 1, 1, 1, 1,\n",
       "       1, 1, 1, 1, 1, 1, 1, 1, 1, 1, 1, 1, 1, 1, 1, 1, 1, 1, 1, 1, 1, 1,\n",
       "       1, 1, 1, 1, 1, 1, 1, 1, 1, 1, 1, 1, 1, 1, 1, 1, 1, 1, 1, 1, 1, 1,\n",
       "       1, 1, 1, 1, 1, 1, 1, 1, 1, 1, 1, 1, 1, 1, 1, 1, 1, 1, 1, 1, 1, 1,\n",
       "       1, 1, 1, 1, 1, 2, 2, 2, 2, 2, 2, 2, 2, 2, 2, 2, 2, 2, 2, 2, 2, 2,\n",
       "       2, 2, 2, 2, 2, 2, 2, 2, 2, 2, 2, 2, 2, 2, 2, 2, 2, 2, 2, 2, 2, 2,\n",
       "       2, 2, 2, 2, 2, 2, 2, 2, 2, 2, 2, 2, 2, 2, 2, 2, 2, 2, 2, 3, 3, 3,\n",
       "       3, 3, 3, 3, 3, 3, 3, 3, 3, 3, 3, 3, 3, 3, 3, 3, 3, 3, 3, 3, 3, 3,\n",
       "       3, 3, 3, 3, 3, 3, 3, 3, 3, 3, 3, 3, 3, 3, 3, 3, 3, 3, 3, 3, 3, 3,\n",
       "       3, 3, 3, 3, 3, 3, 3, 3, 3, 3, 3, 3, 3, 3, 3, 3, 3, 3, 3, 3, 3, 3,\n",
       "       3, 3, 3, 3, 3, 3, 3, 3, 3, 3, 3, 3, 3, 3, 3, 3, 3, 3, 3, 3, 3, 3,\n",
       "       3, 3, 3, 3, 3, 3, 3, 3, 3, 3, 3, 3, 3, 3, 3, 3, 3, 3, 3, 3, 3, 3,\n",
       "       3, 3, 3, 4, 4, 4, 4, 4, 4, 4, 4, 4, 4, 4, 4, 4, 4, 4, 4, 4, 4, 4,\n",
       "       4, 4, 4, 4, 4, 4, 4, 4, 4, 4, 4, 4, 4, 4, 4, 4, 4, 4, 4, 4, 4, 4,\n",
       "       4, 4, 4, 4, 4, 4, 4, 4, 4, 4, 4, 4, 4, 4, 4, 4, 5, 5, 5, 5, 5, 5,\n",
       "       5, 5, 5, 5, 5, 5, 5, 5, 5, 5, 5, 5, 5, 5, 5, 5, 5, 5, 5, 5, 5, 5,\n",
       "       5, 5, 5, 5, 5, 5, 5, 5, 5, 5, 5, 5, 5, 5, 5, 5, 5, 5, 5, 5, 5, 5,\n",
       "       5, 5, 5, 5, 5, 5, 5, 5, 5, 5, 5, 5, 6, 6, 6, 6, 6, 6, 6, 6, 6, 6,\n",
       "       6, 6, 6, 6, 6, 6, 6, 6, 6, 6, 6, 6, 6, 6, 6, 6, 6, 6, 6, 6, 6, 6,\n",
       "       6, 6, 6, 6, 6, 6, 6, 6, 6, 6, 6, 6, 6, 6, 6, 6, 6, 6, 6, 6, 6, 6,\n",
       "       7, 7, 7, 7, 7, 7, 7, 7, 7, 7, 7, 7, 7, 7, 7, 7, 7, 7, 7, 7, 7, 7,\n",
       "       7, 7, 7, 7, 7, 7, 7, 7, 7, 7, 7, 7, 7, 7, 7, 7, 7, 7, 7, 7, 7, 7,\n",
       "       7, 7, 7, 7, 7, 7, 7, 7, 7, 7, 7, 7, 7])"
      ]
     },
     "execution_count": 12,
     "metadata": {},
     "output_type": "execute_result"
    }
   ],
   "source": [
    "y_train"
   ]
  },
  {
   "cell_type": "code",
   "execution_count": 13,
   "metadata": {},
   "outputs": [],
   "source": [
    "# Normalize pixel values to between 0 and 1\n",
    "x_train, x_test = x_train / 255.0, x_test / 255.0"
   ]
  },
  {
   "cell_type": "code",
   "execution_count": 14,
   "metadata": {},
   "outputs": [],
   "source": [
    "#One hot encode y values for neural network.  cause in a row one value will be hot\n",
    "from keras.utils import to_categorical\n",
    "y_train_one_hot = to_categorical(y_train)\n",
    "y_test_one_hot = to_categorical(y_test)\n"
   ]
  },
  {
   "cell_type": "code",
   "execution_count": 15,
   "metadata": {},
   "outputs": [
    {
     "data": {
      "text/plain": [
       "array([[1., 0., 0., ..., 0., 0., 0.],\n",
       "       [1., 0., 0., ..., 0., 0., 0.],\n",
       "       [1., 0., 0., ..., 0., 0., 0.],\n",
       "       ...,\n",
       "       [0., 0., 0., ..., 0., 0., 1.],\n",
       "       [0., 0., 0., ..., 0., 0., 1.],\n",
       "       [0., 0., 0., ..., 0., 0., 1.]], dtype=float32)"
      ]
     },
     "execution_count": 15,
     "metadata": {},
     "output_type": "execute_result"
    }
   ],
   "source": [
    "y_train_one_hot"
   ]
  },
  {
   "cell_type": "code",
   "execution_count": 19,
   "metadata": {},
   "outputs": [],
   "source": [
    "#Load model without classifier/fully connected layers\n",
    "VGG_model = VGG16(weights='imagenet', include_top=False, input_shape=(SIZE, SIZE, 3))"
   ]
  },
  {
   "cell_type": "code",
   "execution_count": 20,
   "metadata": {},
   "outputs": [
    {
     "name": "stdout",
     "output_type": "stream",
     "text": [
      "Model: \"vgg16\"\n",
      "_________________________________________________________________\n",
      " Layer (type)                Output Shape              Param #   \n",
      "=================================================================\n",
      " input_2 (InputLayer)        [(None, 256, 256, 3)]     0         \n",
      "                                                                 \n",
      " block1_conv1 (Conv2D)       (None, 256, 256, 64)      1792      \n",
      "                                                                 \n",
      " block1_conv2 (Conv2D)       (None, 256, 256, 64)      36928     \n",
      "                                                                 \n",
      " block1_pool (MaxPooling2D)  (None, 128, 128, 64)      0         \n",
      "                                                                 \n",
      " block2_conv1 (Conv2D)       (None, 128, 128, 128)     73856     \n",
      "                                                                 \n",
      " block2_conv2 (Conv2D)       (None, 128, 128, 128)     147584    \n",
      "                                                                 \n",
      " block2_pool (MaxPooling2D)  (None, 64, 64, 128)       0         \n",
      "                                                                 \n",
      " block3_conv1 (Conv2D)       (None, 64, 64, 256)       295168    \n",
      "                                                                 \n",
      " block3_conv2 (Conv2D)       (None, 64, 64, 256)       590080    \n",
      "                                                                 \n",
      " block3_conv3 (Conv2D)       (None, 64, 64, 256)       590080    \n",
      "                                                                 \n",
      " block3_pool (MaxPooling2D)  (None, 32, 32, 256)       0         \n",
      "                                                                 \n",
      " block4_conv1 (Conv2D)       (None, 32, 32, 512)       1180160   \n",
      "                                                                 \n",
      " block4_conv2 (Conv2D)       (None, 32, 32, 512)       2359808   \n",
      "                                                                 \n",
      " block4_conv3 (Conv2D)       (None, 32, 32, 512)       2359808   \n",
      "                                                                 \n",
      " block4_pool (MaxPooling2D)  (None, 16, 16, 512)       0         \n",
      "                                                                 \n",
      " block5_conv1 (Conv2D)       (None, 16, 16, 512)       2359808   \n",
      "                                                                 \n",
      " block5_conv2 (Conv2D)       (None, 16, 16, 512)       2359808   \n",
      "                                                                 \n",
      " block5_conv3 (Conv2D)       (None, 16, 16, 512)       2359808   \n",
      "                                                                 \n",
      " block5_pool (MaxPooling2D)  (None, 8, 8, 512)         0         \n",
      "                                                                 \n",
      "=================================================================\n",
      "Total params: 14,714,688\n",
      "Trainable params: 14,714,688\n",
      "Non-trainable params: 0\n",
      "_________________________________________________________________\n"
     ]
    }
   ],
   "source": [
    "VGG_model.summary()"
   ]
  },
  {
   "cell_type": "code",
   "execution_count": 21,
   "metadata": {},
   "outputs": [
    {
     "name": "stdout",
     "output_type": "stream",
     "text": [
      "Model: \"vgg16\"\n",
      "_________________________________________________________________\n",
      " Layer (type)                Output Shape              Param #   \n",
      "=================================================================\n",
      " input_2 (InputLayer)        [(None, 256, 256, 3)]     0         \n",
      "                                                                 \n",
      " block1_conv1 (Conv2D)       (None, 256, 256, 64)      1792      \n",
      "                                                                 \n",
      " block1_conv2 (Conv2D)       (None, 256, 256, 64)      36928     \n",
      "                                                                 \n",
      " block1_pool (MaxPooling2D)  (None, 128, 128, 64)      0         \n",
      "                                                                 \n",
      " block2_conv1 (Conv2D)       (None, 128, 128, 128)     73856     \n",
      "                                                                 \n",
      " block2_conv2 (Conv2D)       (None, 128, 128, 128)     147584    \n",
      "                                                                 \n",
      " block2_pool (MaxPooling2D)  (None, 64, 64, 128)       0         \n",
      "                                                                 \n",
      " block3_conv1 (Conv2D)       (None, 64, 64, 256)       295168    \n",
      "                                                                 \n",
      " block3_conv2 (Conv2D)       (None, 64, 64, 256)       590080    \n",
      "                                                                 \n",
      " block3_conv3 (Conv2D)       (None, 64, 64, 256)       590080    \n",
      "                                                                 \n",
      " block3_pool (MaxPooling2D)  (None, 32, 32, 256)       0         \n",
      "                                                                 \n",
      " block4_conv1 (Conv2D)       (None, 32, 32, 512)       1180160   \n",
      "                                                                 \n",
      " block4_conv2 (Conv2D)       (None, 32, 32, 512)       2359808   \n",
      "                                                                 \n",
      " block4_conv3 (Conv2D)       (None, 32, 32, 512)       2359808   \n",
      "                                                                 \n",
      " block4_pool (MaxPooling2D)  (None, 16, 16, 512)       0         \n",
      "                                                                 \n",
      " block5_conv1 (Conv2D)       (None, 16, 16, 512)       2359808   \n",
      "                                                                 \n",
      " block5_conv2 (Conv2D)       (None, 16, 16, 512)       2359808   \n",
      "                                                                 \n",
      " block5_conv3 (Conv2D)       (None, 16, 16, 512)       2359808   \n",
      "                                                                 \n",
      " block5_pool (MaxPooling2D)  (None, 8, 8, 512)         0         \n",
      "                                                                 \n",
      "=================================================================\n",
      "Total params: 14,714,688\n",
      "Trainable params: 0\n",
      "Non-trainable params: 14,714,688\n",
      "_________________________________________________________________\n"
     ]
    }
   ],
   "source": [
    "#Make loaded layers as non-trainable. This is important as we want to work with pre-trained weights\n",
    "#we don't need to train again the model...its already trained..we just need the parameters. so we are not taking any trainable params\n",
    "for layer in VGG_model.layers:\n",
    "\tlayer.trainable = False\n",
    "    \n",
    "VGG_model.summary()  #Trainable parameters will be 0\n"
   ]
  },
  {
   "cell_type": "code",
   "execution_count": 22,
   "metadata": {},
   "outputs": [
    {
     "name": "stdout",
     "output_type": "stream",
     "text": [
      "19/19 [==============================] - 52s 3s/step\n"
     ]
    }
   ],
   "source": [
    "#Now, let us use features from convolutional network for RF\n",
    "feature_extractor=VGG_model.predict(x_train)\n",
    "\n",
    "features = feature_extractor.reshape(feature_extractor.shape[0], -1)"
   ]
  },
  {
   "cell_type": "code",
   "execution_count": 24,
   "metadata": {},
   "outputs": [],
   "source": [
    "X_for_RF = features #This is our X input to RF"
   ]
  },
  {
   "cell_type": "code",
   "execution_count": 25,
   "metadata": {},
   "outputs": [],
   "source": [
    "#RANDOM FOREST\n",
    "from sklearn.ensemble import RandomForestClassifier\n",
    "RF_model = RandomForestClassifier(n_estimators = 50, random_state = 42)\n"
   ]
  },
  {
   "cell_type": "code",
   "execution_count": 26,
   "metadata": {},
   "outputs": [
    {
     "data": {
      "text/plain": [
       "RandomForestClassifier(n_estimators=50, random_state=42)"
      ]
     },
     "execution_count": 26,
     "metadata": {},
     "output_type": "execute_result"
    }
   ],
   "source": [
    "# Train the model on training data\n",
    "RF_model.fit(X_for_RF, y_train) #For sklearn no one hot encoding"
   ]
  },
  {
   "cell_type": "code",
   "execution_count": 27,
   "metadata": {},
   "outputs": [
    {
     "name": "stdout",
     "output_type": "stream",
     "text": [
      "5/5 [==============================] - 12s 2s/step\n"
     ]
    }
   ],
   "source": [
    "#Send test data through same feature extractor process\n",
    "X_test_feature = VGG_model.predict(x_test)\n",
    "X_test_features = X_test_feature.reshape(X_test_feature.shape[0], -1)"
   ]
  },
  {
   "cell_type": "code",
   "execution_count": 28,
   "metadata": {},
   "outputs": [],
   "source": [
    "#Now predict using the trained RF model. \n",
    "prediction_RF = RF_model.predict(X_test_features)\n",
    "#Inverse le transform to get original label back. \n",
    "prediction_RF = le.inverse_transform(prediction_RF)"
   ]
  },
  {
   "cell_type": "code",
   "execution_count": 29,
   "metadata": {},
   "outputs": [
    {
     "name": "stdout",
     "output_type": "stream",
     "text": [
      "Accuracy =  0.5102040816326531\n"
     ]
    }
   ],
   "source": [
    "#Print overall accuracy\n",
    "from sklearn import metrics\n",
    "print (\"Accuracy = \", metrics.accuracy_score(test_labels, prediction_RF))"
   ]
  },
  {
   "cell_type": "code",
   "execution_count": 31,
   "metadata": {},
   "outputs": [
    {
     "data": {
      "text/plain": [
       "<AxesSubplot:>"
      ]
     },
     "execution_count": 31,
     "metadata": {},
     "output_type": "execute_result"
    },
    {
     "data": {
      "image/png": "[encoded data removed]",
      "text/plain": [
       "<Figure size 640x480 with 2 Axes>"
      ]
     },
     "metadata": {},
     "output_type": "display_data"
    }
   ],
   "source": [
    "#Confusion Matrix - verify accuracy of each class\n",
    "from sklearn.metrics import confusion_matrix\n",
    "cm = confusion_matrix(test_labels, prediction_RF)\n",
    "#print(cm)\n",
    "sns.heatmap(cm, annot=True)"
   ]
  },
  {
   "cell_type": "code",
   "execution_count": 33,
   "metadata": {},
   "outputs": [
    {
     "name": "stdout",
     "output_type": "stream",
     "text": [
      "1/1 [==============================] - 0s 132ms/step\n",
      "The prediction for this image is:  ['Euglena']\n",
      "The actual label for this image is:  Euglena\n"
     ]
    },
    {
     "data": {
      "image/png": "[encoded data removed]",
      "text/plain": [
       "<Figure size 640x480 with 1 Axes>"
      ]
     },
     "metadata": {},
     "output_type": "display_data"
    }
   ],
   "source": [
    "#Check results on a few select images\n",
    "n=np.random.randint(0, x_test.shape[0])\n",
    "img = x_test[n]\n",
    "plt.imshow(img)\n",
    "input_img = np.expand_dims(img, axis=0) #Expand dims so the input is (num images, x, y, c)\n",
    "input_img_feature=VGG_model.predict(input_img)\n",
    "input_img_features=input_img_feature.reshape(input_img_feature.shape[0], -1)\n",
    "prediction_RF = RF_model.predict(input_img_features)[0] \n",
    "prediction_RF = le.inverse_transform([prediction_RF])  #Reverse the label encoder to original name\n",
    "print(\"The prediction for this image is: \", prediction_RF)\n",
    "print(\"The actual label for this image is: \", test_labels[n])\n",
    "\n",
    "\n"
   ]
  },
  {
   "cell_type": "code",
   "execution_count": null,
   "metadata": {},
   "outputs": [],
   "source": []
  }
 ],
 "metadata": {
  "kernelspec": {
   "display_name": "Banded_krait",
   "language": "python",
   "name": "python3"
  },
  "language_info": {
   "codemirror_mode": {
    "name": "ipython",
    "version": 3
   },
   "file_extension": ".py",
   "mimetype": "text/x-python",
   "name": "python",
   "nbconvert_exporter": "python",
   "pygments_lexer": "ipython3",
   "version": "3.7.16"
  },
  "orig_nbformat": 4
 },
 "nbformat": 4,
 "nbformat_minor": 2
}
