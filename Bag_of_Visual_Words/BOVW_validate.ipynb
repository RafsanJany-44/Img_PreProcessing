{
 "cells": [
  {
   "cell_type": "code",
   "execution_count": 69,
   "metadata": {},
   "outputs": [],
   "source": [
    "import cv2\n",
    "import numpy as np\n",
    "import os\n",
    "import pylab as pl\n",
    "from sklearn.metrics import confusion_matrix, accuracy_score #sreeni\n",
    "import joblib"
   ]
  },
  {
   "cell_type": "code",
   "execution_count": 70,
   "metadata": {},
   "outputs": [],
   "source": [
    "# Load the classifier, class names, scaler, number of clusters and vocabulary \n",
    "#from stored pickle file (generated during training)\n",
    "clf, classes_names, stdSlr, k, voc = joblib.load(\"bovw.pkl\")"
   ]
  },
  {
   "cell_type": "code",
   "execution_count": 71,
   "metadata": {},
   "outputs": [],
   "source": [
    "# Get the path of the testing image(s) and store them in a list\n",
    "#test_path = 'dataset/test' # Names are Aeroplane, Bicycle, Car\n",
    "test_path = \"C:/Users/RAZER/Downloads/dataset/Micro_Organism/Set_1/val\"  # Folder Names are Parasitized and Uninfected\n",
    "#instead of test if you use train then we get great accuracy\n",
    "\n",
    "testing_names = os.listdir(test_path)"
   ]
  },
  {
   "cell_type": "code",
   "execution_count": 72,
   "metadata": {},
   "outputs": [
    {
     "data": {
      "text/plain": [
       "['Amoeba',\n",
       " 'Euglena',\n",
       " 'Hydra',\n",
       " 'Paramecium',\n",
       " 'Rod_bacteria',\n",
       " 'Spherical_bacteria',\n",
       " 'Spiral_bacteria',\n",
       " 'Yeast']"
      ]
     },
     "execution_count": 72,
     "metadata": {},
     "output_type": "execute_result"
    }
   ],
   "source": [
    "testing_names"
   ]
  },
  {
   "cell_type": "code",
   "execution_count": 73,
   "metadata": {},
   "outputs": [],
   "source": [
    "# Get path to all images and save them in a list\n",
    "# image_paths and the corresponding label in image_paths\n",
    "image_paths = []\n",
    "image_classes = []\n",
    "class_id = 0\n",
    "\n",
    "#To make it easy to list all file names in a directory let us define a function\n",
    "#\n",
    "def imglist(path):\n",
    "    return [os.path.join(path, f) for f in os.listdir(path)]"
   ]
  },
  {
   "cell_type": "code",
   "execution_count": null,
   "metadata": {},
   "outputs": [],
   "source": []
  },
  {
   "cell_type": "code",
   "execution_count": 74,
   "metadata": {},
   "outputs": [],
   "source": [
    "#Fill the placeholder empty lists with image path, classes, and add class ID number\n",
    "\n",
    "for testing_name in testing_names:\n",
    "    dir = os.path.join(test_path, testing_name)\n",
    "    class_path = imglist(dir)\n",
    "    image_paths+=class_path\n",
    "    image_classes+=[class_id]*len(class_path)\n",
    "    class_id+=1"
   ]
  },
  {
   "cell_type": "code",
   "execution_count": 75,
   "metadata": {},
   "outputs": [],
   "source": [
    "# Create feature extraction and keypoint detector objects\n",
    "    #SIFT is not available anymore in openCV    \n",
    "# Create List where all the descriptors will be stored\n",
    "des_list = []\n",
    "\n",
    "#BRISK is a good replacement to SIFT. ORB also works but didn;t work well for this example\n",
    "brisk = cv2.BRISK_create(30)\n",
    "\n",
    "for image_path in image_paths:\n",
    "    im = cv2.imread(image_path)\n",
    "    kpts, des = brisk.detectAndCompute(im, None)\n",
    "    des_list.append((image_path, des))"
   ]
  },
  {
   "cell_type": "code",
   "execution_count": 76,
   "metadata": {},
   "outputs": [
    {
     "name": "stdout",
     "output_type": "stream",
     "text": [
      "nan type occures!!!\n"
     ]
    }
   ],
   "source": [
    "# Stack all the descriptors vertically in a numpy array\n",
    "descriptors = des_list[0][1]\n",
    "for descriptor in des_list[0:]:\n",
    "    if str(type(descriptor[1])) == \"<class 'NoneType'>\":\n",
    "        print(\"nan type occures!!!\")\n",
    "        continue\n",
    "    else:\n",
    "        descriptors = np.vstack((descriptors, descriptor[1]))"
   ]
  },
  {
   "cell_type": "code",
   "execution_count": 77,
   "metadata": {},
   "outputs": [
    {
     "name": "stdout",
     "output_type": "stream",
     "text": [
      "nan type occures!!!\n"
     ]
    }
   ],
   "source": [
    "# Calculate the histogram of features\n",
    "#vq Assigns codes from a code book to observations.\n",
    "from scipy.cluster.vq import vq    \n",
    "test_features = np.zeros((len(image_paths), k), \"float32\")\n",
    "for i in range(len(image_paths)):\n",
    "    if str(type(des_list[i][1])) == \"<class 'NoneType'>\":\n",
    "        print(\"nan type occures!!!\")\n",
    "        continue\n",
    "    words, distance = vq(des_list[i][1],voc)\n",
    "    for w in words:\n",
    "        test_features[i][w] += 1"
   ]
  },
  {
   "cell_type": "code",
   "execution_count": 78,
   "metadata": {},
   "outputs": [],
   "source": [
    "# Perform Tf-Idf vectorization\n",
    "nbr_occurences = np.sum( (test_features > 0) * 1, axis = 0)\n",
    "idf = np.array(np.log((1.0*len(image_paths)+1) / (1.0*nbr_occurences + 1)), 'float32')"
   ]
  },
  {
   "cell_type": "code",
   "execution_count": 79,
   "metadata": {},
   "outputs": [],
   "source": [
    "# Scale the features\n",
    "#Standardize features by removing the mean and scaling to unit variance\n",
    "#Scaler (stdSlr comes from the pickled file we imported)\n",
    "test_features = stdSlr.transform(test_features)"
   ]
  },
  {
   "cell_type": "code",
   "execution_count": 80,
   "metadata": {},
   "outputs": [],
   "source": [
    "#######Until here most of the above code is similar to Train except for kmeans clustering####\n",
    "\n",
    "#Report true class names so they can be compared with predicted classes\n",
    "true_class =  [classes_names[i] for i in image_classes]\n",
    "# Perform the predictions and report predicted class names. \n",
    "predictions =  [classes_names[i] for i in clf.predict(test_features)]\n"
   ]
  },
  {
   "cell_type": "code",
   "execution_count": 81,
   "metadata": {},
   "outputs": [
    {
     "name": "stdout",
     "output_type": "stream",
     "text": [
      "true_class =['Amoeba', 'Amoeba', 'Amoeba', 'Amoeba', 'Amoeba', 'Amoeba', 'Amoeba', 'Amoeba', 'Amoeba', 'Amoeba', 'Amoeba', 'Amoeba', 'Amoeba', 'Euglena', 'Euglena', 'Euglena', 'Euglena', 'Euglena', 'Euglena', 'Euglena', 'Euglena', 'Euglena', 'Euglena', 'Euglena', 'Euglena', 'Euglena', 'Euglena', 'Euglena', 'Euglena', 'Euglena', 'Euglena', 'Euglena', 'Euglena', 'Euglena', 'Euglena', 'Euglena', 'Euglena', 'Euglena', 'Euglena', 'Euglena', 'Euglena', 'Euglena', 'Euglena', 'Euglena', 'Euglena', 'Hydra', 'Hydra', 'Hydra', 'Hydra', 'Hydra', 'Hydra', 'Hydra', 'Hydra', 'Hydra', 'Hydra', 'Hydra', 'Hydra', 'Hydra', 'Hydra', 'Hydra', 'Paramecium', 'Paramecium', 'Paramecium', 'Paramecium', 'Paramecium', 'Paramecium', 'Paramecium', 'Paramecium', 'Paramecium', 'Paramecium', 'Paramecium', 'Paramecium', 'Paramecium', 'Paramecium', 'Paramecium', 'Paramecium', 'Paramecium', 'Paramecium', 'Paramecium', 'Paramecium', 'Paramecium', 'Paramecium', 'Paramecium', 'Paramecium', 'Paramecium', 'Paramecium', 'Paramecium', 'Paramecium', 'Paramecium', 'Rod_bacteria', 'Rod_bacteria', 'Rod_bacteria', 'Rod_bacteria', 'Rod_bacteria', 'Rod_bacteria', 'Rod_bacteria', 'Rod_bacteria', 'Rod_bacteria', 'Rod_bacteria', 'Rod_bacteria', 'Rod_bacteria', 'Rod_bacteria', 'Rod_bacteria', 'Spherical_bacteria', 'Spherical_bacteria', 'Spherical_bacteria', 'Spherical_bacteria', 'Spherical_bacteria', 'Spherical_bacteria', 'Spherical_bacteria', 'Spherical_bacteria', 'Spherical_bacteria', 'Spherical_bacteria', 'Spherical_bacteria', 'Spherical_bacteria', 'Spherical_bacteria', 'Spherical_bacteria', 'Spherical_bacteria', 'Spherical_bacteria', 'Spiral_bacteria', 'Spiral_bacteria', 'Spiral_bacteria', 'Spiral_bacteria', 'Spiral_bacteria', 'Spiral_bacteria', 'Spiral_bacteria', 'Spiral_bacteria', 'Spiral_bacteria', 'Spiral_bacteria', 'Spiral_bacteria', 'Spiral_bacteria', 'Spiral_bacteria', 'Spiral_bacteria', 'Yeast', 'Yeast', 'Yeast', 'Yeast', 'Yeast', 'Yeast', 'Yeast', 'Yeast', 'Yeast', 'Yeast', 'Yeast', 'Yeast', 'Yeast', 'Yeast']\n",
      "prediction =['Euglena', 'Yeast', 'Rod_bacteria', 'Euglena', 'Euglena', 'Yeast', 'Paramecium', 'Paramecium', 'Amoeba', 'Rod_bacteria', 'Euglena', 'Rod_bacteria', 'Euglena', 'Paramecium', 'Paramecium', 'Euglena', 'Paramecium', 'Paramecium', 'Euglena', 'Euglena', 'Euglena', 'Euglena', 'Rod_bacteria', 'Euglena', 'Euglena', 'Spiral_bacteria', 'Spiral_bacteria', 'Paramecium', 'Euglena', 'Hydra', 'Paramecium', 'Euglena', 'Euglena', 'Euglena', 'Euglena', 'Paramecium', 'Rod_bacteria', 'Spherical_bacteria', 'Euglena', 'Euglena', 'Euglena', 'Spherical_bacteria', 'Euglena', 'Amoeba', 'Euglena', 'Euglena', 'Rod_bacteria', 'Hydra', 'Euglena', 'Euglena', 'Spiral_bacteria', 'Hydra', 'Amoeba', 'Hydra', 'Spherical_bacteria', 'Paramecium', 'Hydra', 'Euglena', 'Hydra', 'Hydra', 'Yeast', 'Paramecium', 'Euglena', 'Paramecium', 'Euglena', 'Paramecium', 'Paramecium', 'Euglena', 'Spherical_bacteria', 'Paramecium', 'Euglena', 'Euglena', 'Spherical_bacteria', 'Hydra', 'Euglena', 'Paramecium', 'Paramecium', 'Rod_bacteria', 'Euglena', 'Yeast', 'Hydra', 'Paramecium', 'Spiral_bacteria', 'Hydra', 'Yeast', 'Euglena', 'Paramecium', 'Amoeba', 'Euglena', 'Euglena', 'Rod_bacteria', 'Spherical_bacteria', 'Spiral_bacteria', 'Spherical_bacteria', 'Spherical_bacteria', 'Euglena', 'Paramecium', 'Paramecium', 'Spiral_bacteria', 'Spiral_bacteria', 'Paramecium', 'Euglena', 'Euglena', 'Paramecium', 'Rod_bacteria', 'Hydra', 'Euglena', 'Spherical_bacteria', 'Euglena', 'Spherical_bacteria', 'Rod_bacteria', 'Spherical_bacteria', 'Euglena', 'Euglena', 'Hydra', 'Spiral_bacteria', 'Euglena', 'Spiral_bacteria', 'Euglena', 'Euglena', 'Rod_bacteria', 'Euglena', 'Hydra', 'Euglena', 'Euglena', 'Euglena', 'Euglena', 'Hydra', 'Hydra', 'Rod_bacteria', 'Euglena', 'Spiral_bacteria', 'Euglena', 'Euglena', 'Euglena', 'Euglena', 'Euglena', 'Euglena', 'Euglena', 'Yeast', 'Yeast', 'Euglena', 'Yeast', 'Yeast', 'Euglena', 'Euglena', 'Euglena']\n"
     ]
    }
   ],
   "source": [
    "#Print the true class and Predictions \n",
    "print (\"true_class =\"  + str(true_class))\n",
    "print (\"prediction =\"  + str(predictions))"
   ]
  },
  {
   "cell_type": "code",
   "execution_count": 82,
   "metadata": {},
   "outputs": [],
   "source": [
    "#To make it easy to understand the accuracy let us print the confusion matrix\n",
    "\n",
    "def showconfusionmatrix(cm):\n",
    "    pl.matshow(cm)\n",
    "    pl.title('Confusion matrix')\n",
    "    pl.colorbar()\n",
    "    pl.show()\n"
   ]
  },
  {
   "cell_type": "code",
   "execution_count": 84,
   "metadata": {},
   "outputs": [
    {
     "name": "stdout",
     "output_type": "stream",
     "text": [
      "accuracy =  0.2857142857142857\n",
      "[[ 1  5  0  2  3  0  0  2]\n",
      " [ 1 17  1  7  2  2  2  0]\n",
      " [ 1  4  6  1  1  1  1  0]\n",
      " [ 1  9  3  9  1  2  1  3]\n",
      " [ 0  4  0  3  1  3  3  0]\n",
      " [ 0  6  2  1  2  3  2  0]\n",
      " [ 0  8  3  0  2  0  1  0]\n",
      " [ 0 10  0  0  0  0  0  4]]\n"
     ]
    },
    {
     "data": {
      "image/png": "[encoded data removed]",
      "text/plain": [
       "<Figure size 480x480 with 2 Axes>"
      ]
     },
     "metadata": {},
     "output_type": "display_data"
    }
   ],
   "source": [
    "accuracy = accuracy_score(true_class, predictions)\n",
    "print (\"accuracy = \", accuracy)\n",
    "cm = confusion_matrix(true_class, predictions)\n",
    "print (cm)\n",
    "\n",
    "showconfusionmatrix(cm)"
   ]
  },
  {
   "cell_type": "code",
   "execution_count": null,
   "metadata": {},
   "outputs": [],
   "source": []
  }
 ],
 "metadata": {
  "kernelspec": {
   "display_name": "Banded_krait",
   "language": "python",
   "name": "python3"
  },
  "language_info": {
   "codemirror_mode": {
    "name": "ipython",
    "version": 3
   },
   "file_extension": ".py",
   "mimetype": "text/x-python",
   "name": "python",
   "nbconvert_exporter": "python",
   "pygments_lexer": "ipython3",
   "version": "3.7.16"
  },
  "orig_nbformat": 4
 },
 "nbformat": 4,
 "nbformat_minor": 2
}
