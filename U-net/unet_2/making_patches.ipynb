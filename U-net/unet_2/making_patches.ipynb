{
 "cells": [
  {
   "cell_type": "code",
   "execution_count": 33,
   "metadata": {},
   "outputs": [],
   "source": [
    "import cv2\n",
    "import matplotlib.pyplot as plt\n",
    "from patchify import patchify\n",
    "import tensorflow as tf\n",
    "import os"
   ]
  },
  {
   "cell_type": "code",
   "execution_count": 34,
   "metadata": {},
   "outputs": [],
   "source": [
    "\n",
    "\n",
    "\n",
    "def make_patch(sourch,destination):\n",
    "    image = cv2.imread(sourch)\n",
    "    image = cv2.cvtColor(image, cv2.COLOR_BGR2RGB)\n",
    "\n",
    "    # Define patch size and stride\n",
    "    patch_size = [256, 256]  # Specify the size of each patch (height x width)\n",
    "    # We are using non-overlapping patch\n",
    "    stride = [256, 256]  # Specify the stride for patch extraction (height x width)\n",
    "\n",
    "    # Use tf.image.extract_patches to extract patches\n",
    "    patches = tf.image.extract_patches(\n",
    "        images=tf.expand_dims(image, axis=0),  # Add a batch dimension\n",
    "        sizes=[1, *patch_size, 1],  # Add batch and channel dimensions\n",
    "        strides=[1, *stride, 1],  # Add batch and channel dimensions\n",
    "        rates=[1, 1, 1, 1],  # Default rates\n",
    "        padding='VALID'  # Use 'VALID' padding to ensure no padding is added\n",
    "    )\n",
    "\n",
    "    # Reshape the extracted patches\n",
    "    num_patches = patches.shape[1] * patches.shape[2]\n",
    "    print(\"Number of Patches: \",num_patches)\n",
    "\n",
    "    patches = tf.reshape(patches, [num_patches, *patch_size, 3])  # Assuming 3 channels for RGB images\n",
    "    \n",
    "    a=0\n",
    "    for i in patches:\n",
    "            status = cv2.imwrite(destination+str(a)+\"_\"+os.path.basename(sourch),i.numpy())\n",
    "            print(\"Image\",str(a)+\"_\"+os.path.basename(sourch),\" written to file-system : \",status)\n",
    "            a+=1"
   ]
  },
  {
   "cell_type": "code",
   "execution_count": 35,
   "metadata": {},
   "outputs": [],
   "source": [
    "filename_img = \"C:/Users/RAZER/Downloads/dataset/micro/images/training.tif\"\n",
    "img_des = \"C:/Users/RAZER/Downloads/dataset/micro/images_pathces/\""
   ]
  },
  {
   "cell_type": "code",
   "execution_count": 36,
   "metadata": {},
   "outputs": [
    {
     "name": "stdout",
     "output_type": "stream",
     "text": [
      "Number of Patches:  12\n",
      "Image 0_training.tif  written to file-system :  True\n",
      "Image 1_training.tif  written to file-system :  True\n",
      "Image 2_training.tif  written to file-system :  True\n",
      "Image 3_training.tif  written to file-system :  True\n",
      "Image 4_training.tif  written to file-system :  True\n",
      "Image 5_training.tif  written to file-system :  True\n",
      "Image 6_training.tif  written to file-system :  True\n",
      "Image 7_training.tif  written to file-system :  True\n",
      "Image 8_training.tif  written to file-system :  True\n",
      "Image 9_training.tif  written to file-system :  True\n",
      "Image 10_training.tif  written to file-system :  True\n",
      "Image 11_training.tif  written to file-system :  True\n"
     ]
    }
   ],
   "source": [
    "make_patch(filename_img,img_des)"
   ]
  },
  {
   "cell_type": "code",
   "execution_count": 37,
   "metadata": {},
   "outputs": [],
   "source": [
    "filename_mask = \"C:/Users/RAZER/Downloads/dataset/micro/mask/training_groundtruth.tif\"\n",
    "mask_des = \"C:/Users/RAZER/Downloads/dataset/micro/mask_pathces/\"\n"
   ]
  },
  {
   "cell_type": "code",
   "execution_count": 38,
   "metadata": {},
   "outputs": [
    {
     "name": "stdout",
     "output_type": "stream",
     "text": [
      "Number of Patches:  12\n",
      "Image 0_training_groundtruth.tif  written to file-system :  True\n",
      "Image 1_training_groundtruth.tif  written to file-system :  True\n",
      "Image 2_training_groundtruth.tif  written to file-system :  True\n",
      "Image 3_training_groundtruth.tif  written to file-system :  True\n",
      "Image 4_training_groundtruth.tif  written to file-system :  True\n",
      "Image 5_training_groundtruth.tif  written to file-system :  True\n",
      "Image 6_training_groundtruth.tif  written to file-system :  True\n",
      "Image 7_training_groundtruth.tif  written to file-system :  True\n",
      "Image 8_training_groundtruth.tif  written to file-system :  True\n",
      "Image 9_training_groundtruth.tif  written to file-system :  True\n",
      "Image 10_training_groundtruth.tif  written to file-system :  True\n",
      "Image 11_training_groundtruth.tif  written to file-system :  True\n"
     ]
    }
   ],
   "source": [
    "make_patch(filename_mask,mask_des)"
   ]
  },
  {
   "cell_type": "code",
   "execution_count": null,
   "metadata": {},
   "outputs": [],
   "source": []
  }
 ],
 "metadata": {
  "kernelspec": {
   "display_name": "Banded_krait",
   "language": "python",
   "name": "python3"
  },
  "language_info": {
   "codemirror_mode": {
    "name": "ipython",
    "version": 3
   },
   "file_extension": ".py",
   "mimetype": "text/x-python",
   "name": "python",
   "nbconvert_exporter": "python",
   "pygments_lexer": "ipython3",
   "version": "3.7.16"
  }
 },
 "nbformat": 4,
 "nbformat_minor": 2
}
