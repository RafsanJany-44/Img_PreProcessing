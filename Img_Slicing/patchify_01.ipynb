{
 "cells": [
  {
   "cell_type": "code",
   "execution_count": 1,
   "id": "131f65c0-306d-4637-94c3-1ca28c63a5b8",
   "metadata": {},
   "outputs": [
    {
     "data": {
      "text/plain": [
       "'\\n!pip install patchify\\n!pip install opencv-python\\n!pip install matplotlib\\n'"
      ]
     },
     "execution_count": 1,
     "metadata": {},
     "output_type": "execute_result"
    }
   ],
   "source": [
    "\"\"\"\n",
    "!pip install patchify\n",
    "!pip install opencv-python\n",
    "!pip install matplotlib\n",
    "\"\"\""
   ]
  },
  {
   "cell_type": "code",
   "execution_count": 2,
   "id": "1cdea399-22d6-476a-b744-707878219977",
   "metadata": {},
   "outputs": [],
   "source": [
    "import cv2"
   ]
  },
  {
   "cell_type": "code",
   "execution_count": 4,
   "id": "13d71349-2ed2-47cb-a554-e99c96b6ad8e",
   "metadata": {},
   "outputs": [],
   "source": [
    "filename_img = \"C:/Users/RAZER/Desktop/Test/TCGA-A2-A1G6-DX1_xmin57706_ymin69514_MPP-0.2500_main.png\"\n",
    "filename_mask = \"C:/Users/RAZER/Desktop/Test/TCGA-A2-A1G6-DX1_xmin57706_ymin69514_MPP-0.2500_mask.png\"\n",
    "image = cv2.imread(filename_img, flags=cv2.IMREAD_COLOR)\n",
    "mask = cv2.imread(filename_mask, flags=cv2.IMREAD_COLOR)\n",
    "\n"
   ]
  },
  {
   "cell_type": "code",
   "execution_count": null,
   "id": "0b417682-71f3-4229-b704-969640397e4b",
   "metadata": {},
   "outputs": [],
   "source": []
  },
  {
   "cell_type": "code",
   "execution_count": null,
   "id": "87797eda-dc9d-4bc4-8dad-ef7ace517e28",
   "metadata": {},
   "outputs": [],
   "source": [
    "\n",
    "tissue_img = cv2.imread(tissue_wsi_list[0])\n",
    "tissue_img = cv2.cvtColor(tissue_img, cv2.COLOR_BGR2RGB)\n",
    "\n",
    "mask_img = cv2.imread(masks_wsi_list[0])\n",
    "mask_img = cv2.cvtColor(mask_img, cv2.COLOR_BGR2RGB)\n",
    "\n",
    "#Verify (tissue, mask) shape\n",
    "print(tissue_img.shape)\n",
    "print(mask_img.shape)\n",
    "\n",
    "\n",
    "#Plot (tissue, mask) side by side\n",
    "fig, axes = plt.subplots(1, 2, figsize=(12, 6))\n",
    "\n",
    "# Plot the first image on the left subplot\n",
    "axes[0].imshow(cv2.cvtColor(tissue_img, cv2.COLOR_BGR2RGB))\n",
    "axes[0].set_title('Tissue')\n",
    "\n",
    "# Plot the second image on the right subplot\n",
    "axes[1].imshow(cv2.cvtColor(mask_img, cv2.COLOR_BGR2RGB))\n",
    "axes[1].set_title('Mask')\n",
    "plt.show()"
   ]
  },
  {
   "cell_type": "code",
   "execution_count": null,
   "id": "ca725b22-7a96-4bb5-8de1-ae89262d73fa",
   "metadata": {},
   "outputs": [],
   "source": []
  }
 ],
 "metadata": {
  "kernelspec": {
   "display_name": "Python 3 (ipykernel)",
   "language": "python",
   "name": "python3"
  },
  "language_info": {
   "codemirror_mode": {
    "name": "ipython",
    "version": 3
   },
   "file_extension": ".py",
   "mimetype": "text/x-python",
   "name": "python",
   "nbconvert_exporter": "python",
   "pygments_lexer": "ipython3",
   "version": "3.7.16"
  }
 },
 "nbformat": 4,
 "nbformat_minor": 5
}
